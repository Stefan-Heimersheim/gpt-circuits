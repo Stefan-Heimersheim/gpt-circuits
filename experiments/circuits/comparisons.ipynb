{
 "cells": [
  {
   "cell_type": "code",
   "execution_count": 33,
   "metadata": {},
   "outputs": [
    {
     "name": "stdout",
     "output_type": "stream",
     "text": [
      "Strategy: cluster, Sample: val.0.15360.2 Features: 8, Mean KLD: 0.0740\n",
      "Strategy: cluster-nopos, Sample: val.0.15360.2 Features: 16, Mean KLD: 0.1083\n",
      "Strategy: zero, Sample: val.0.15360.2 Features: 26, Mean KLD: 0.1982\n",
      "Strategy: random-pos, Sample: val.0.15360.2 Features: 40, Mean KLD: 0.5101\n",
      "Strategy: random, Sample: val.0.15360.2 Features: 60, Mean KLD: 0.6237\n",
      "Strategy: cluster, Sample: val.0.90112.2 Features: 5, Mean KLD: 0.0517\n",
      "Strategy: cluster-nopos, Sample: val.0.90112.2 Features: 9, Mean KLD: 0.0656\n",
      "Strategy: zero, Sample: val.0.90112.2 Features: 8, Mean KLD: 0.1656\n",
      "Strategy: random-pos, Sample: val.0.90112.2 Features: 23, Mean KLD: 0.2930\n",
      "Strategy: random, Sample: val.0.90112.2 Features: 26, Mean KLD: 0.2716\n",
      "Strategy: cluster, Sample: val.0.3072.2 Features: 14, Mean KLD: 0.1635\n",
      "Strategy: cluster-nopos, Sample: val.0.3072.2 Features: 15, Mean KLD: 0.1533\n",
      "Strategy: zero, Sample: val.0.3072.2 Features: 21, Mean KLD: 0.1498\n",
      "Strategy: random-pos, Sample: val.0.3072.2 Features: 63, Mean KLD: 1.0505\n",
      "Strategy: random, Sample: val.0.3072.2 Features: 53, Mean KLD: 1.2512\n",
      "Strategy: cluster, Sample: val.0.45056.2 Features: 9, Mean KLD: 0.0814\n",
      "Strategy: cluster-nopos, Sample: val.0.45056.2 Features: 12, Mean KLD: 0.0698\n",
      "Strategy: zero, Sample: val.0.45056.2 Features: 34, Mean KLD: 0.1874\n",
      "Strategy: random-pos, Sample: val.0.45056.2 Features: 57, Mean KLD: 1.0776\n",
      "Strategy: random, Sample: val.0.45056.2 Features: 61, Mean KLD: 1.2970\n",
      "Strategy: cluster, Sample: val.0.49152.2 Features: 5, Mean KLD: 0.0649\n",
      "Strategy: cluster-nopos, Sample: val.0.49152.2 Features: 9, Mean KLD: 0.1166\n",
      "Strategy: zero, Sample: val.0.49152.2 Features: 10, Mean KLD: 0.1353\n",
      "Strategy: random-pos, Sample: val.0.49152.2 Features: 20, Mean KLD: 0.2415\n",
      "Strategy: random, Sample: val.0.49152.2 Features: 27, Mean KLD: 0.3027\n",
      "Strategy: cluster, Sample: val.0.35840.2 Features: 21, Mean KLD: 0.2221\n",
      "Strategy: cluster-nopos, Sample: val.0.35840.2 Features: 23, Mean KLD: 0.2620\n",
      "Strategy: zero, Sample: val.0.35840.2 Features: 41, Mean KLD: 0.2487\n",
      "Strategy: random-pos, Sample: val.0.35840.2 Features: 42, Mean KLD: 1.1381\n",
      "Strategy: random, Sample: val.0.35840.2 Features: 52, Mean KLD: 1.2834\n",
      "Strategy: cluster, Sample: val.0.64512.2 Features: 5, Mean KLD: 0.0399\n",
      "Strategy: cluster-nopos, Sample: val.0.64512.2 Features: 14, Mean KLD: 0.2593\n",
      "Strategy: zero, Sample: val.0.64512.2 Features: 14, Mean KLD: 0.1133\n",
      "Strategy: random-pos, Sample: val.0.64512.2 Features: 38, Mean KLD: 0.3761\n",
      "Strategy: random, Sample: val.0.64512.2 Features: 50, Mean KLD: 0.4942\n",
      "Strategy: cluster, Sample: val.0.61440.2 Features: 33, Mean KLD: 0.2275\n",
      "Strategy: cluster-nopos, Sample: val.0.61440.2 Features: 48, Mean KLD: 0.3463\n",
      "Strategy: zero, Sample: val.0.61440.2 Features: 49, Mean KLD: 0.3226\n",
      "Strategy: random-pos, Sample: val.0.61440.2 Features: 62, Mean KLD: 0.5334\n",
      "Strategy: random, Sample: val.0.61440.2 Features: 46, Mean KLD: 0.7612\n",
      "Strategy: cluster, Sample: val.0.86016.2 Features: 19, Mean KLD: 0.1311\n",
      "Strategy: cluster-nopos, Sample: val.0.86016.2 Features: 21, Mean KLD: 0.1401\n",
      "Strategy: zero, Sample: val.0.86016.2 Features: 51, Mean KLD: 0.1926\n",
      "Strategy: random-pos, Sample: val.0.86016.2 Features: 58, Mean KLD: 1.3390\n",
      "Strategy: random, Sample: val.0.86016.2 Features: 51, Mean KLD: 1.7117\n",
      "Strategy: cluster, Sample: val.0.101376.2 Features: 16, Mean KLD: 0.1489\n",
      "Strategy: cluster-nopos, Sample: val.0.101376.2 Features: 17, Mean KLD: 0.1718\n",
      "Strategy: zero, Sample: val.0.101376.2 Features: 34, Mean KLD: 0.1140\n",
      "Strategy: random-pos, Sample: val.0.101376.2 Features: 40, Mean KLD: 1.2577\n",
      "Strategy: random, Sample: val.0.101376.2 Features: 51, Mean KLD: 1.2920\n",
      "Strategy: cluster, Sample: val.0.80896.2 Features: 8, Mean KLD: 0.0621\n",
      "Strategy: cluster-nopos, Sample: val.0.80896.2 Features: 12, Mean KLD: 0.1060\n",
      "Strategy: zero, Sample: val.0.80896.2 Features: 21, Mean KLD: 0.1883\n",
      "Strategy: random-pos, Sample: val.0.80896.2 Features: 47, Mean KLD: 0.8288\n",
      "Strategy: random, Sample: val.0.80896.2 Features: 51, Mean KLD: 0.9485\n",
      "Strategy: cluster, Sample: val.0.40960.2 Features: 22, Mean KLD: 0.1609\n",
      "Strategy: cluster-nopos, Sample: val.0.40960.2 Features: 30, Mean KLD: 0.1468\n",
      "Strategy: zero, Sample: val.0.40960.2 Features: 27, Mean KLD: 0.1648\n",
      "Strategy: random-pos, Sample: val.0.40960.2 Features: 81, Mean KLD: 0.8864\n",
      "Strategy: random, Sample: val.0.40960.2 Features: 69, Mean KLD: 1.1758\n",
      "Strategy: cluster, Sample: val.0.50176.2 Features: 5, Mean KLD: 0.0908\n",
      "Strategy: cluster-nopos, Sample: val.0.50176.2 Features: 9, Mean KLD: 0.0617\n",
      "Strategy: zero, Sample: val.0.50176.2 Features: 9, Mean KLD: 0.1660\n",
      "Strategy: random-pos, Sample: val.0.50176.2 Features: 25, Mean KLD: 0.2846\n",
      "Strategy: random, Sample: val.0.50176.2 Features: 30, Mean KLD: 0.3920\n",
      "Strategy: cluster, Sample: val.0.68608.2 Features: 26, Mean KLD: 0.2144\n",
      "Strategy: cluster-nopos, Sample: val.0.68608.2 Features: 32, Mean KLD: 0.2437\n",
      "Strategy: zero, Sample: val.0.68608.2 Features: 41, Mean KLD: 0.1872\n",
      "Strategy: random-pos, Sample: val.0.68608.2 Features: 42, Mean KLD: 0.7251\n",
      "Strategy: random, Sample: val.0.68608.2 Features: 43, Mean KLD: 0.8520\n",
      "Strategy: cluster, Sample: val.0.21504.2 Features: 5, Mean KLD: 0.0323\n",
      "Strategy: cluster-nopos, Sample: val.0.21504.2 Features: 12, Mean KLD: 0.1571\n",
      "Strategy: zero, Sample: val.0.21504.2 Features: 10, Mean KLD: 0.1134\n",
      "Strategy: random-pos, Sample: val.0.21504.2 Features: 17, Mean KLD: 0.2773\n",
      "Strategy: random, Sample: val.0.21504.2 Features: 24, Mean KLD: 0.2575\n",
      "Strategy: cluster, Sample: val.0.36864.2 Features: 12, Mean KLD: 0.1392\n",
      "Strategy: cluster-nopos, Sample: val.0.36864.2 Features: 19, Mean KLD: 0.1566\n",
      "Strategy: zero, Sample: val.0.36864.2 Features: 31, Mean KLD: 0.2058\n",
      "Strategy: random-pos, Sample: val.0.36864.2 Features: 46, Mean KLD: 0.5781\n",
      "Strategy: random, Sample: val.0.36864.2 Features: 45, Mean KLD: 0.6266\n",
      "Strategy: cluster, Sample: val.0.8192.2 Features: 12, Mean KLD: 0.0945\n",
      "Strategy: cluster-nopos, Sample: val.0.8192.2 Features: 14, Mean KLD: 0.1150\n",
      "Strategy: zero, Sample: val.0.8192.2 Features: 39, Mean KLD: 0.1401\n",
      "Strategy: random-pos, Sample: val.0.8192.2 Features: 35, Mean KLD: 1.4327\n",
      "Strategy: random, Sample: val.0.8192.2 Features: 42, Mean KLD: 1.7319\n",
      "Strategy: cluster, Sample: val.0.62464.2 Features: 20, Mean KLD: 0.3165\n",
      "Strategy: cluster-nopos, Sample: val.0.62464.2 Features: 20, Mean KLD: 0.2817\n",
      "Strategy: zero, Sample: val.0.62464.2 Features: 66, Mean KLD: 0.2480\n",
      "Strategy: random-pos, Sample: val.0.62464.2 Features: 41, Mean KLD: 0.8649\n",
      "Strategy: random, Sample: val.0.62464.2 Features: 43, Mean KLD: 0.8707\n",
      "Strategy: cluster, Sample: val.0.13312.2 Features: 22, Mean KLD: 0.1906\n",
      "Strategy: cluster-nopos, Sample: val.0.13312.2 Features: 29, Mean KLD: 0.2479\n",
      "Strategy: zero, Sample: val.0.13312.2 Features: 52, Mean KLD: 0.5991\n",
      "Strategy: random-pos, Sample: val.0.13312.2 Features: 45, Mean KLD: 0.4191\n",
      "Strategy: random, Sample: val.0.13312.2 Features: 53, Mean KLD: 0.5561\n",
      "Strategy: cluster, Sample: val.0.4096.2 Features: 43, Mean KLD: 0.2291\n",
      "Strategy: cluster-nopos, Sample: val.0.4096.2 Features: 52, Mean KLD: 0.2341\n",
      "Strategy: zero, Sample: val.0.4096.2 Features: 57, Mean KLD: 0.7461\n",
      "Strategy: random-pos, Sample: val.0.4096.2 Features: 85, Mean KLD: 1.7867\n",
      "Strategy: random, Sample: val.0.4096.2 Features: 71, Mean KLD: 2.0797\n",
      "Strategy: cluster, Sample: val.0.98304.2 Features: 16, Mean KLD: 0.0808\n",
      "Strategy: cluster-nopos, Sample: val.0.98304.2 Features: 19, Mean KLD: 0.0962\n",
      "Strategy: zero, Sample: val.0.98304.2 Features: 19, Mean KLD: 0.1809\n",
      "Strategy: random-pos, Sample: val.0.98304.2 Features: 56, Mean KLD: 1.9470\n",
      "Strategy: random, Sample: val.0.98304.2 Features: 40, Mean KLD: 1.9488\n",
      "Strategy: cluster, Sample: val.0.77824.2 Features: 5, Mean KLD: 0.0321\n",
      "Strategy: cluster-nopos, Sample: val.0.77824.2 Features: 12, Mean KLD: 0.1988\n",
      "Strategy: zero, Sample: val.0.77824.2 Features: 9, Mean KLD: 0.1514\n",
      "Strategy: random-pos, Sample: val.0.77824.2 Features: 22, Mean KLD: 0.2868\n",
      "Strategy: random, Sample: val.0.77824.2 Features: 37, Mean KLD: 0.2851\n",
      "Strategy: cluster, Sample: val.0.57344.2 Features: 27, Mean KLD: 0.1647\n",
      "Strategy: cluster-nopos, Sample: val.0.57344.2 Features: 23, Mean KLD: 0.1803\n",
      "Strategy: zero, Sample: val.0.57344.2 Features: 46, Mean KLD: 0.1672\n",
      "Strategy: random-pos, Sample: val.0.57344.2 Features: 63, Mean KLD: 1.1605\n",
      "Strategy: random, Sample: val.0.57344.2 Features: 56, Mean KLD: 1.3864\n",
      "Strategy: cluster, Sample: val.0.53248.2 Features: 12, Mean KLD: 0.1035\n",
      "Strategy: cluster-nopos, Sample: val.0.53248.2 Features: 17, Mean KLD: 0.1332\n",
      "Strategy: zero, Sample: val.0.53248.2 Features: 24, Mean KLD: 0.0861\n",
      "Strategy: random-pos, Sample: val.0.53248.2 Features: 50, Mean KLD: 1.0294\n",
      "Strategy: random, Sample: val.0.53248.2 Features: 51, Mean KLD: 1.2449\n",
      "Strategy: cluster, Sample: val.0.96256.2 Features: 7, Mean KLD: 0.1544\n",
      "Strategy: cluster-nopos, Sample: val.0.96256.2 Features: 14, Mean KLD: 0.0874\n",
      "Strategy: zero, Sample: val.0.96256.2 Features: 19, Mean KLD: 0.1575\n",
      "Strategy: random-pos, Sample: val.0.96256.2 Features: 45, Mean KLD: 0.6832\n",
      "Strategy: random, Sample: val.0.96256.2 Features: 49, Mean KLD: 0.9342\n",
      "Strategy: cluster, Sample: val.0.74752.2 Features: 16, Mean KLD: 0.1409\n",
      "Strategy: cluster-nopos, Sample: val.0.74752.2 Features: 18, Mean KLD: 0.0895\n",
      "Strategy: zero, Sample: val.0.74752.2 Features: 19, Mean KLD: 0.1809\n",
      "Strategy: random-pos, Sample: val.0.74752.2 Features: 53, Mean KLD: 1.8637\n",
      "Strategy: random, Sample: val.0.74752.2 Features: 55, Mean KLD: 1.6952\n",
      "Strategy: cluster, Sample: val.0.99328.2 Features: 35, Mean KLD: 0.3080\n",
      "Strategy: cluster-nopos, Sample: val.0.99328.2 Features: 51, Mean KLD: 0.2904\n",
      "Strategy: zero, Sample: val.0.99328.2 Features: 40, Mean KLD: 1.1761\n",
      "Strategy: random-pos, Sample: val.0.99328.2 Features: 39, Mean KLD: 1.6954\n",
      "Strategy: random, Sample: val.0.99328.2 Features: 37, Mean KLD: 1.7283\n",
      "Strategy: cluster, Sample: val.0.19456.2 Features: 8, Mean KLD: 0.1309\n",
      "Strategy: cluster-nopos, Sample: val.0.19456.2 Features: 10, Mean KLD: 0.1058\n",
      "Strategy: zero, Sample: val.0.19456.2 Features: 29, Mean KLD: 0.1621\n",
      "Strategy: random-pos, Sample: val.0.19456.2 Features: 42, Mean KLD: 0.4586\n",
      "Strategy: random, Sample: val.0.19456.2 Features: 41, Mean KLD: 0.5639\n",
      "Strategy: cluster, Sample: val.0.89088.2 Features: 21, Mean KLD: 0.2162\n",
      "Strategy: cluster-nopos, Sample: val.0.89088.2 Features: 23, Mean KLD: 0.2610\n",
      "Strategy: zero, Sample: val.0.89088.2 Features: 41, Mean KLD: 0.2487\n",
      "Strategy: random-pos, Sample: val.0.89088.2 Features: 42, Mean KLD: 1.2407\n",
      "Strategy: random, Sample: val.0.89088.2 Features: 44, Mean KLD: 1.3503\n",
      "Strategy: cluster, Sample: val.0.97280.2 Features: 7, Mean KLD: 0.1274\n",
      "Strategy: cluster-nopos, Sample: val.0.97280.2 Features: 13, Mean KLD: 0.0384\n",
      "Strategy: zero, Sample: val.0.97280.2 Features: 21, Mean KLD: 0.1619\n",
      "Strategy: random-pos, Sample: val.0.97280.2 Features: 47, Mean KLD: 0.9557\n",
      "Strategy: random, Sample: val.0.97280.2 Features: 52, Mean KLD: 1.0089\n",
      "Strategy: cluster, Sample: val.0.79872.2 Features: 28, Mean KLD: 0.1956\n",
      "Strategy: cluster-nopos, Sample: val.0.79872.2 Features: 24, Mean KLD: 0.1778\n",
      "Strategy: zero, Sample: val.0.79872.2 Features: 28, Mean KLD: 0.1404\n",
      "Strategy: random-pos, Sample: val.0.79872.2 Features: 39, Mean KLD: 1.0355\n",
      "Strategy: random, Sample: val.0.79872.2 Features: 45, Mean KLD: 1.1314\n",
      "Strategy: cluster, Sample: val.0.23552.2 Features: 5, Mean KLD: 0.0797\n",
      "Strategy: cluster-nopos, Sample: val.0.23552.2 Features: 9, Mean KLD: 0.0965\n",
      "Strategy: zero, Sample: val.0.23552.2 Features: 15, Mean KLD: 0.1669\n",
      "Strategy: random-pos, Sample: val.0.23552.2 Features: 24, Mean KLD: 0.3005\n",
      "Strategy: random, Sample: val.0.23552.2 Features: 29, Mean KLD: 0.2929\n",
      "Strategy: cluster, Sample: val.0.52224.2 Features: 8, Mean KLD: 0.1029\n",
      "Strategy: cluster-nopos, Sample: val.0.52224.2 Features: 14, Mean KLD: 0.1208\n",
      "Strategy: zero, Sample: val.0.52224.2 Features: 35, Mean KLD: 0.1674\n",
      "Strategy: random-pos, Sample: val.0.52224.2 Features: 51, Mean KLD: 1.0324\n",
      "Strategy: random, Sample: val.0.52224.2 Features: 48, Mean KLD: 1.0187\n",
      "Strategy: cluster, Sample: val.0.47104.2 Features: 8, Mean KLD: 0.0572\n",
      "Strategy: cluster-nopos, Sample: val.0.47104.2 Features: 12, Mean KLD: 0.0496\n",
      "Strategy: zero, Sample: val.0.47104.2 Features: 25, Mean KLD: 0.1097\n",
      "Strategy: random-pos, Sample: val.0.47104.2 Features: 36, Mean KLD: 0.9519\n",
      "Strategy: random, Sample: val.0.47104.2 Features: 58, Mean KLD: 0.8894\n",
      "Strategy: cluster, Sample: val.0.0.2 Features: 8, Mean KLD: 0.0946\n",
      "Strategy: cluster-nopos, Sample: val.0.0.2 Features: 11, Mean KLD: 0.1000\n",
      "Strategy: zero, Sample: val.0.0.2 Features: 20, Mean KLD: 0.1204\n",
      "Strategy: random-pos, Sample: val.0.0.2 Features: 46, Mean KLD: 0.3484\n",
      "Strategy: random, Sample: val.0.0.2 Features: 47, Mean KLD: 0.4443\n",
      "Strategy: cluster, Sample: val.0.43008.2 Features: 15, Mean KLD: 0.1431\n",
      "Strategy: cluster-nopos, Sample: val.0.43008.2 Features: 17, Mean KLD: 0.1445\n",
      "Strategy: zero, Sample: val.0.43008.2 Features: 25, Mean KLD: 0.2489\n",
      "Strategy: random-pos, Sample: val.0.43008.2 Features: 45, Mean KLD: 0.3200\n",
      "Strategy: random, Sample: val.0.43008.2 Features: 43, Mean KLD: 0.4357\n",
      "Strategy: cluster, Sample: val.0.95232.2 Features: 8, Mean KLD: 0.1274\n",
      "Strategy: cluster-nopos, Sample: val.0.95232.2 Features: 15, Mean KLD: 0.1093\n",
      "Strategy: zero, Sample: val.0.95232.2 Features: 22, Mean KLD: 0.1287\n",
      "Strategy: random-pos, Sample: val.0.95232.2 Features: 45, Mean KLD: 0.6615\n",
      "Strategy: random, Sample: val.0.95232.2 Features: 50, Mean KLD: 0.6425\n",
      "Strategy: cluster, Sample: val.0.51200.2 Features: 9, Mean KLD: 0.1309\n",
      "Strategy: cluster-nopos, Sample: val.0.51200.2 Features: 14, Mean KLD: 0.1129\n",
      "Strategy: zero, Sample: val.0.51200.2 Features: 25, Mean KLD: 0.1737\n",
      "Strategy: random-pos, Sample: val.0.51200.2 Features: 53, Mean KLD: 0.7470\n",
      "Strategy: random, Sample: val.0.51200.2 Features: 55, Mean KLD: 0.8870\n",
      "Strategy: cluster, Sample: val.0.41984.2 Features: 26, Mean KLD: 0.2216\n",
      "Strategy: cluster-nopos, Sample: val.0.41984.2 Features: 25, Mean KLD: 0.1939\n",
      "Strategy: zero, Sample: val.0.41984.2 Features: 29, Mean KLD: 0.1695\n",
      "Strategy: random-pos, Sample: val.0.41984.2 Features: 45, Mean KLD: 0.6853\n",
      "Strategy: random, Sample: val.0.41984.2 Features: 53, Mean KLD: 0.8588\n",
      "Strategy: cluster, Sample: val.0.39936.2 Features: 6, Mean KLD: 0.0586\n",
      "Strategy: cluster-nopos, Sample: val.0.39936.2 Features: 15, Mean KLD: 0.4060\n",
      "Strategy: zero, Sample: val.0.39936.2 Features: 15, Mean KLD: 0.0903\n",
      "Strategy: random-pos, Sample: val.0.39936.2 Features: 45, Mean KLD: 0.5790\n",
      "Strategy: random, Sample: val.0.39936.2 Features: 62, Mean KLD: 0.6879\n",
      "Strategy: cluster, Sample: val.0.31744.2 Features: 6, Mean KLD: 0.1025\n",
      "Strategy: cluster-nopos, Sample: val.0.31744.2 Features: 12, Mean KLD: 0.0711\n",
      "Strategy: zero, Sample: val.0.31744.2 Features: 31, Mean KLD: 0.1513\n",
      "Strategy: random-pos, Sample: val.0.31744.2 Features: 41, Mean KLD: 0.6567\n",
      "Strategy: random, Sample: val.0.31744.2 Features: 51, Mean KLD: 0.8581\n",
      "Strategy: cluster, Sample: val.0.1024.2 Features: 15, Mean KLD: 0.0786\n",
      "Strategy: cluster-nopos, Sample: val.0.1024.2 Features: 16, Mean KLD: 0.1000\n",
      "Strategy: zero, Sample: val.0.1024.2 Features: 34, Mean KLD: 0.1970\n",
      "Strategy: random-pos, Sample: val.0.1024.2 Features: 45, Mean KLD: 1.6370\n",
      "Strategy: random, Sample: val.0.1024.2 Features: 40, Mean KLD: 1.8081\n",
      "Strategy: cluster, Sample: val.0.10240.2 Features: 14, Mean KLD: 0.1098\n",
      "Strategy: cluster-nopos, Sample: val.0.10240.2 Features: 14, Mean KLD: 0.1336\n",
      "Strategy: zero, Sample: val.0.10240.2 Features: 40, Mean KLD: 0.1893\n",
      "Strategy: random-pos, Sample: val.0.10240.2 Features: 51, Mean KLD: 0.6539\n",
      "Strategy: random, Sample: val.0.10240.2 Features: 43, Mean KLD: 0.7046\n",
      "Strategy: cluster, Sample: val.0.26624.2 Features: 9, Mean KLD: 0.1367\n",
      "Strategy: cluster-nopos, Sample: val.0.26624.2 Features: 12, Mean KLD: 0.1748\n",
      "Strategy: zero, Sample: val.0.26624.2 Features: 24, Mean KLD: 0.1644\n",
      "Strategy: random-pos, Sample: val.0.26624.2 Features: 47, Mean KLD: 1.3428\n",
      "Strategy: random, Sample: val.0.26624.2 Features: 67, Mean KLD: 1.1462\n",
      "Strategy: cluster, Sample: val.0.9216.2 Features: 27, Mean KLD: 0.1128\n",
      "Strategy: cluster-nopos, Sample: val.0.9216.2 Features: 27, Mean KLD: 0.0912\n",
      "Strategy: zero, Sample: val.0.9216.2 Features: 31, Mean KLD: 0.2076\n",
      "Strategy: random-pos, Sample: val.0.9216.2 Features: 54, Mean KLD: 1.2810\n",
      "Strategy: random, Sample: val.0.9216.2 Features: 76, Mean KLD: 1.3516\n",
      "Strategy: cluster, Sample: val.0.14336.2 Features: 5, Mean KLD: 0.1728\n",
      "Strategy: cluster-nopos, Sample: val.0.14336.2 Features: 12, Mean KLD: 0.1283\n",
      "Strategy: zero, Sample: val.0.14336.2 Features: 17, Mean KLD: 0.2323\n",
      "Strategy: random-pos, Sample: val.0.14336.2 Features: 38, Mean KLD: 0.3834\n",
      "Strategy: random, Sample: val.0.14336.2 Features: 47, Mean KLD: 0.4093\n",
      "Strategy: cluster, Sample: val.0.11264.2 Features: 33, Mean KLD: 0.2726\n",
      "Strategy: cluster-nopos, Sample: val.0.11264.2 Features: 40, Mean KLD: 0.3126\n",
      "Strategy: zero, Sample: val.0.11264.2 Features: 30, Mean KLD: 0.1612\n",
      "Strategy: random-pos, Sample: val.0.11264.2 Features: 42, Mean KLD: 0.9775\n",
      "Strategy: random, Sample: val.0.11264.2 Features: 45, Mean KLD: 0.9026\n",
      "Strategy: cluster, Sample: val.0.78848.2 Features: 5, Mean KLD: 0.0418\n",
      "Strategy: cluster-nopos, Sample: val.0.78848.2 Features: 13, Mean KLD: 0.1578\n",
      "Strategy: zero, Sample: val.0.78848.2 Features: 9, Mean KLD: 0.1516\n",
      "Strategy: random-pos, Sample: val.0.78848.2 Features: 24, Mean KLD: 0.2411\n",
      "Strategy: random, Sample: val.0.78848.2 Features: 30, Mean KLD: 0.2578\n",
      "Strategy: cluster, Sample: val.0.20480.2 Features: 17, Mean KLD: 0.1803\n",
      "Strategy: cluster-nopos, Sample: val.0.20480.2 Features: 21, Mean KLD: 0.1444\n",
      "Strategy: zero, Sample: val.0.20480.2 Features: 47, Mean KLD: 0.4764\n",
      "Strategy: random-pos, Sample: val.0.20480.2 Features: 47, Mean KLD: 0.8155\n",
      "Strategy: random, Sample: val.0.20480.2 Features: 47, Mean KLD: 0.9922\n",
      "Strategy: cluster, Sample: val.0.30720.2 Features: 34, Mean KLD: 0.1857\n",
      "Strategy: cluster-nopos, Sample: val.0.30720.2 Features: 33, Mean KLD: 0.1998\n",
      "Strategy: zero, Sample: val.0.30720.2 Features: 35, Mean KLD: 0.8225\n",
      "Strategy: random-pos, Sample: val.0.30720.2 Features: 57, Mean KLD: 1.3412\n",
      "Strategy: random, Sample: val.0.30720.2 Features: 62, Mean KLD: 1.4454\n",
      "Strategy: cluster, Sample: val.0.84992.2 Features: 22, Mean KLD: 0.3061\n",
      "Strategy: cluster-nopos, Sample: val.0.84992.2 Features: 18, Mean KLD: 0.3202\n",
      "Strategy: zero, Sample: val.0.84992.2 Features: 66, Mean KLD: 0.2480\n",
      "Strategy: random-pos, Sample: val.0.84992.2 Features: 48, Mean KLD: 0.7412\n",
      "Strategy: random, Sample: val.0.84992.2 Features: 41, Mean KLD: 0.7971\n",
      "Strategy: cluster, Sample: val.0.33792.2 Features: 5, Mean KLD: 0.0924\n",
      "Strategy: cluster-nopos, Sample: val.0.33792.2 Features: 13, Mean KLD: 0.2787\n",
      "Strategy: zero, Sample: val.0.33792.2 Features: 11, Mean KLD: 0.0667\n",
      "Strategy: random-pos, Sample: val.0.33792.2 Features: 44, Mean KLD: 0.3588\n",
      "Strategy: random, Sample: val.0.33792.2 Features: 56, Mean KLD: 0.4599\n",
      "Strategy: cluster, Sample: val.0.83968.2 Features: 14, Mean KLD: 0.1381\n",
      "Strategy: cluster-nopos, Sample: val.0.83968.2 Features: 18, Mean KLD: 0.1643\n",
      "Strategy: zero, Sample: val.0.83968.2 Features: 50, Mean KLD: 0.1934\n",
      "Strategy: random-pos, Sample: val.0.83968.2 Features: 56, Mean KLD: 1.6543\n",
      "Strategy: random, Sample: val.0.83968.2 Features: 39, Mean KLD: 1.8747\n",
      "Strategy: cluster, Sample: val.0.60416.2 Features: 31, Mean KLD: 0.6762\n",
      "Strategy: cluster-nopos, Sample: val.0.60416.2 Features: 35, Mean KLD: 0.6551\n",
      "Strategy: zero, Sample: val.0.60416.2 Features: 34, Mean KLD: 0.2796\n",
      "Strategy: random-pos, Sample: val.0.60416.2 Features: 46, Mean KLD: 1.4073\n",
      "Strategy: random, Sample: val.0.60416.2 Features: 60, Mean KLD: 1.4100\n",
      "Strategy: cluster, Sample: val.0.87040.2 Features: 13, Mean KLD: 0.1227\n",
      "Strategy: cluster-nopos, Sample: val.0.87040.2 Features: 18, Mean KLD: 0.1178\n",
      "Strategy: zero, Sample: val.0.87040.2 Features: 24, Mean KLD: 0.2127\n",
      "Strategy: random-pos, Sample: val.0.87040.2 Features: 48, Mean KLD: 1.0878\n",
      "Strategy: random, Sample: val.0.87040.2 Features: 50, Mean KLD: 1.1370\n",
      "Strategy: cluster, Sample: val.0.58368.2 Features: 10, Mean KLD: 0.1206\n",
      "Strategy: cluster-nopos, Sample: val.0.58368.2 Features: 13, Mean KLD: 0.1209\n",
      "Strategy: zero, Sample: val.0.58368.2 Features: 38, Mean KLD: 0.1800\n",
      "Strategy: random-pos, Sample: val.0.58368.2 Features: 47, Mean KLD: 0.8607\n",
      "Strategy: random, Sample: val.0.58368.2 Features: 45, Mean KLD: 1.0966\n",
      "Strategy: cluster, Sample: val.0.29696.2 Features: 73, Mean KLD: 0.3923\n",
      "Strategy: cluster-nopos, Sample: val.0.29696.2 Features: 42, Mean KLD: 0.8471\n",
      "Strategy: zero, Sample: val.0.29696.2 Features: 66, Mean KLD: 0.7492\n",
      "Strategy: random-pos, Sample: val.0.29696.2 Features: 52, Mean KLD: 0.7948\n",
      "Strategy: random, Sample: val.0.29696.2 Features: 42, Mean KLD: 1.1916\n",
      "Strategy: cluster, Sample: val.0.38912.2 Features: 45, Mean KLD: 0.3508\n",
      "Strategy: cluster-nopos, Sample: val.0.38912.2 Features: 52, Mean KLD: 0.3177\n",
      "Strategy: zero, Sample: val.0.38912.2 Features: 59, Mean KLD: 0.1952\n",
      "Strategy: random-pos, Sample: val.0.38912.2 Features: 36, Mean KLD: 1.3346\n",
      "Strategy: random, Sample: val.0.38912.2 Features: 46, Mean KLD: 1.1539\n",
      "Strategy: cluster, Sample: val.0.34816.2 Features: 28, Mean KLD: 0.2201\n",
      "Strategy: cluster-nopos, Sample: val.0.34816.2 Features: 26, Mean KLD: 0.2088\n",
      "Strategy: zero, Sample: val.0.34816.2 Features: 47, Mean KLD: 0.4245\n",
      "Strategy: random-pos, Sample: val.0.34816.2 Features: 49, Mean KLD: 0.9934\n",
      "Strategy: random, Sample: val.0.34816.2 Features: 54, Mean KLD: 1.2669\n",
      "Strategy: cluster, Sample: val.0.22528.2 Features: 21, Mean KLD: 0.1981\n",
      "Strategy: cluster-nopos, Sample: val.0.22528.2 Features: 27, Mean KLD: 0.1454\n",
      "Strategy: zero, Sample: val.0.22528.2 Features: 31, Mean KLD: 0.2076\n",
      "Strategy: random-pos, Sample: val.0.22528.2 Features: 57, Mean KLD: 1.5302\n",
      "Strategy: random, Sample: val.0.22528.2 Features: 67, Mean KLD: 1.2608\n",
      "Strategy: cluster, Sample: val.0.66560.2 Features: 13, Mean KLD: 0.1364\n",
      "Strategy: cluster-nopos, Sample: val.0.66560.2 Features: 19, Mean KLD: 0.1673\n",
      "Strategy: zero, Sample: val.0.66560.2 Features: 12, Mean KLD: 0.1497\n",
      "Strategy: random-pos, Sample: val.0.66560.2 Features: 56, Mean KLD: 1.0530\n",
      "Strategy: random, Sample: val.0.66560.2 Features: 62, Mean KLD: 1.2246\n",
      "Strategy: cluster, Sample: val.0.17408.2 Features: 28, Mean KLD: 0.2233\n",
      "Strategy: cluster-nopos, Sample: val.0.17408.2 Features: 33, Mean KLD: 0.1912\n",
      "Strategy: zero, Sample: val.0.17408.2 Features: 56, Mean KLD: 0.2974\n",
      "Strategy: random-pos, Sample: val.0.17408.2 Features: 64, Mean KLD: 1.4214\n",
      "Strategy: random, Sample: val.0.17408.2 Features: 65, Mean KLD: 2.0945\n",
      "Strategy: cluster, Sample: val.0.72704.2 Features: 5, Mean KLD: 0.0459\n",
      "Strategy: cluster-nopos, Sample: val.0.72704.2 Features: 9, Mean KLD: 0.0464\n",
      "Strategy: zero, Sample: val.0.72704.2 Features: 12, Mean KLD: 0.1085\n",
      "Strategy: random-pos, Sample: val.0.72704.2 Features: 24, Mean KLD: 0.2770\n",
      "Strategy: random, Sample: val.0.72704.2 Features: 21, Mean KLD: 0.2878\n",
      "Strategy: cluster, Sample: val.0.18432.2 Features: 53, Mean KLD: 0.6555\n",
      "Strategy: cluster-nopos, Sample: val.0.18432.2 Features: 54, Mean KLD: 0.6003\n",
      "Strategy: zero, Sample: val.0.18432.2 Features: 54, Mean KLD: 1.3616\n",
      "Strategy: random-pos, Sample: val.0.18432.2 Features: 51, Mean KLD: 1.7254\n",
      "Strategy: random, Sample: val.0.18432.2 Features: 44, Mean KLD: 1.9637\n",
      "Strategy: cluster, Sample: val.0.7168.2 Features: 5, Mean KLD: 0.0669\n",
      "Strategy: cluster-nopos, Sample: val.0.7168.2 Features: 13, Mean KLD: 0.1771\n",
      "Strategy: zero, Sample: val.0.7168.2 Features: 10, Mean KLD: 0.1353\n",
      "Strategy: random-pos, Sample: val.0.7168.2 Features: 20, Mean KLD: 0.2798\n",
      "Strategy: random, Sample: val.0.7168.2 Features: 28, Mean KLD: 0.3032\n",
      "Strategy: cluster, Sample: val.0.88064.2 Features: 7, Mean KLD: 0.1388\n",
      "Strategy: cluster-nopos, Sample: val.0.88064.2 Features: 11, Mean KLD: 0.1370\n",
      "Strategy: zero, Sample: val.0.88064.2 Features: 18, Mean KLD: 0.1445\n",
      "Strategy: random-pos, Sample: val.0.88064.2 Features: 34, Mean KLD: 0.3180\n",
      "Strategy: random, Sample: val.0.88064.2 Features: 56, Mean KLD: 0.4114\n",
      "Strategy: cluster, Sample: val.0.92160.2 Features: 5, Mean KLD: 0.0412\n",
      "Strategy: cluster-nopos, Sample: val.0.92160.2 Features: 12, Mean KLD: 0.1699\n",
      "Strategy: zero, Sample: val.0.92160.2 Features: 12, Mean KLD: 0.1085\n",
      "Strategy: random-pos, Sample: val.0.92160.2 Features: 18, Mean KLD: 0.2358\n",
      "Strategy: random, Sample: val.0.92160.2 Features: 23, Mean KLD: 0.2751\n",
      "Strategy: cluster, Sample: val.0.54272.2 Features: 18, Mean KLD: 0.1810\n",
      "Strategy: cluster-nopos, Sample: val.0.54272.2 Features: 22, Mean KLD: 0.2271\n",
      "Strategy: zero, Sample: val.0.54272.2 Features: 52, Mean KLD: 0.2325\n",
      "Strategy: random-pos, Sample: val.0.54272.2 Features: 50, Mean KLD: 1.3470\n",
      "Strategy: random, Sample: val.0.54272.2 Features: 51, Mean KLD: 1.3380\n",
      "Strategy: cluster, Sample: val.0.16384.2 Features: 5, Mean KLD: 0.0643\n",
      "Strategy: cluster-nopos, Sample: val.0.16384.2 Features: 10, Mean KLD: 0.0980\n",
      "Strategy: zero, Sample: val.0.16384.2 Features: 11, Mean KLD: 0.1489\n",
      "Strategy: random-pos, Sample: val.0.16384.2 Features: 22, Mean KLD: 0.2771\n",
      "Strategy: random, Sample: val.0.16384.2 Features: 29, Mean KLD: 0.3206\n",
      "Strategy: cluster, Sample: val.0.75776.2 Features: 16, Mean KLD: 0.1546\n",
      "Strategy: cluster-nopos, Sample: val.0.75776.2 Features: 17, Mean KLD: 0.1399\n",
      "Strategy: zero, Sample: val.0.75776.2 Features: 36, Mean KLD: 0.2189\n",
      "Strategy: random-pos, Sample: val.0.75776.2 Features: 60, Mean KLD: 0.7483\n",
      "Strategy: random, Sample: val.0.75776.2 Features: 65, Mean KLD: 0.8676\n",
      "Strategy: cluster, Sample: val.0.25600.2 Features: 13, Mean KLD: 0.1733\n",
      "Strategy: cluster-nopos, Sample: val.0.25600.2 Features: 19, Mean KLD: 0.0907\n",
      "Strategy: zero, Sample: val.0.25600.2 Features: 42, Mean KLD: 0.2966\n",
      "Strategy: random-pos, Sample: val.0.25600.2 Features: 47, Mean KLD: 0.6052\n",
      "Strategy: random, Sample: val.0.25600.2 Features: 48, Mean KLD: 0.7068\n",
      "Strategy: cluster, Sample: val.0.94208.2 Features: 37, Mean KLD: 0.5322\n",
      "Strategy: cluster-nopos, Sample: val.0.94208.2 Features: 38, Mean KLD: 0.5719\n",
      "Strategy: zero, Sample: val.0.94208.2 Features: 45, Mean KLD: 0.3396\n",
      "Strategy: random-pos, Sample: val.0.94208.2 Features: 48, Mean KLD: 1.6804\n",
      "Strategy: random, Sample: val.0.94208.2 Features: 44, Mean KLD: 1.9118\n",
      "Strategy: cluster, Sample: val.0.12288.2 Features: 21, Mean KLD: 0.1215\n",
      "Strategy: cluster-nopos, Sample: val.0.12288.2 Features: 22, Mean KLD: 0.1294\n",
      "Strategy: zero, Sample: val.0.12288.2 Features: 41, Mean KLD: 0.1617\n",
      "Strategy: random-pos, Sample: val.0.12288.2 Features: 55, Mean KLD: 1.7352\n",
      "Strategy: random, Sample: val.0.12288.2 Features: 64, Mean KLD: 1.5383\n",
      "Strategy: cluster, Sample: val.0.59392.2 Features: 5, Mean KLD: 0.0424\n",
      "Strategy: cluster-nopos, Sample: val.0.59392.2 Features: 9, Mean KLD: 0.0294\n",
      "Strategy: zero, Sample: val.0.59392.2 Features: 9, Mean KLD: 0.1347\n",
      "Strategy: random-pos, Sample: val.0.59392.2 Features: 28, Mean KLD: 0.2450\n",
      "Strategy: random, Sample: val.0.59392.2 Features: 30, Mean KLD: 0.2262\n",
      "Strategy: cluster, Sample: val.0.93184.2 Features: 34, Mean KLD: 0.4119\n",
      "Strategy: cluster-nopos, Sample: val.0.93184.2 Features: 32, Mean KLD: 0.5049\n",
      "Strategy: zero, Sample: val.0.93184.2 Features: 33, Mean KLD: 0.2216\n",
      "Strategy: random-pos, Sample: val.0.93184.2 Features: 61, Mean KLD: 1.3590\n",
      "Strategy: random, Sample: val.0.93184.2 Features: 49, Mean KLD: 1.4236\n",
      "Strategy: cluster, Sample: val.0.55296.2 Features: 19, Mean KLD: 0.2187\n",
      "Strategy: cluster-nopos, Sample: val.0.55296.2 Features: 17, Mean KLD: 0.1861\n",
      "Strategy: zero, Sample: val.0.55296.2 Features: 22, Mean KLD: 0.1880\n",
      "Strategy: random-pos, Sample: val.0.55296.2 Features: 52, Mean KLD: 0.4387\n",
      "Strategy: random, Sample: val.0.55296.2 Features: 50, Mean KLD: 0.6242\n",
      "Strategy: cluster, Sample: val.0.32768.2 Features: 7, Mean KLD: 0.1363\n",
      "Strategy: cluster-nopos, Sample: val.0.32768.2 Features: 13, Mean KLD: 0.0803\n",
      "Strategy: zero, Sample: val.0.32768.2 Features: 34, Mean KLD: 0.1874\n",
      "Strategy: random-pos, Sample: val.0.32768.2 Features: 62, Mean KLD: 1.0545\n",
      "Strategy: random, Sample: val.0.32768.2 Features: 60, Mean KLD: 1.2608\n",
      "Strategy: cluster, Sample: val.0.48128.2 Features: 14, Mean KLD: 0.0951\n",
      "Strategy: cluster-nopos, Sample: val.0.48128.2 Features: 18, Mean KLD: 0.1257\n",
      "Strategy: zero, Sample: val.0.48128.2 Features: 33, Mean KLD: 0.1598\n",
      "Strategy: random-pos, Sample: val.0.48128.2 Features: 47, Mean KLD: 0.9261\n",
      "Strategy: random, Sample: val.0.48128.2 Features: 57, Mean KLD: 1.0398\n",
      "Strategy: cluster, Sample: val.0.70656.2 Features: 10, Mean KLD: 0.1559\n",
      "Strategy: cluster-nopos, Sample: val.0.70656.2 Features: 14, Mean KLD: 0.1475\n",
      "Strategy: zero, Sample: val.0.70656.2 Features: 34, Mean KLD: 0.1773\n",
      "Strategy: random-pos, Sample: val.0.70656.2 Features: 55, Mean KLD: 1.1645\n",
      "Strategy: random, Sample: val.0.70656.2 Features: 67, Mean KLD: 1.0156\n",
      "Strategy: cluster, Sample: val.0.76800.2 Features: 5, Mean KLD: 0.0863\n",
      "Strategy: cluster-nopos, Sample: val.0.76800.2 Features: 9, Mean KLD: 0.1135\n",
      "Strategy: zero, Sample: val.0.76800.2 Features: 11, Mean KLD: 0.1530\n",
      "Strategy: random-pos, Sample: val.0.76800.2 Features: 24, Mean KLD: 0.2940\n",
      "Strategy: random, Sample: val.0.76800.2 Features: 27, Mean KLD: 0.3306\n",
      "Strategy: cluster, Sample: val.0.81920.2 Features: 49, Mean KLD: 0.2582\n",
      "Strategy: cluster-nopos, Sample: val.0.81920.2 Features: 45, Mean KLD: 0.2693\n",
      "Strategy: zero, Sample: val.0.81920.2 Features: 54, Mean KLD: 0.5472\n",
      "Strategy: random-pos, Sample: val.0.81920.2 Features: 42, Mean KLD: 1.1255\n",
      "Strategy: random, Sample: val.0.81920.2 Features: 43, Mean KLD: 1.2110\n",
      "Strategy: cluster, Sample: val.0.63488.2 Features: 40, Mean KLD: 0.4274\n",
      "Strategy: cluster-nopos, Sample: val.0.63488.2 Features: 54, Mean KLD: 0.3443\n",
      "Strategy: zero, Sample: val.0.63488.2 Features: 73, Mean KLD: 0.7371\n",
      "Strategy: random-pos, Sample: val.0.63488.2 Features: 63, Mean KLD: 1.1085\n",
      "Strategy: random, Sample: val.0.63488.2 Features: 62, Mean KLD: 1.2276\n",
      "Strategy: cluster, Sample: val.0.2048.2 Features: 15, Mean KLD: 0.1139\n",
      "Strategy: cluster-nopos, Sample: val.0.2048.2 Features: 19, Mean KLD: 0.1193\n",
      "Strategy: zero, Sample: val.0.2048.2 Features: 35, Mean KLD: 0.1899\n",
      "Strategy: random-pos, Sample: val.0.2048.2 Features: 49, Mean KLD: 1.3448\n",
      "Strategy: random, Sample: val.0.2048.2 Features: 62, Mean KLD: 1.2364\n",
      "Strategy: cluster, Sample: val.0.37888.2 Features: 49, Mean KLD: 0.2269\n",
      "Strategy: cluster-nopos, Sample: val.0.37888.2 Features: 47, Mean KLD: 0.2282\n",
      "Strategy: zero, Sample: val.0.37888.2 Features: 49, Mean KLD: 0.3642\n",
      "Strategy: random-pos, Sample: val.0.37888.2 Features: 47, Mean KLD: 1.2662\n",
      "Strategy: random, Sample: val.0.37888.2 Features: 51, Mean KLD: 1.3725\n",
      "Strategy: cluster, Sample: val.0.73728.2 Features: 32, Mean KLD: 0.2197\n",
      "Strategy: cluster-nopos, Sample: val.0.73728.2 Features: 31, Mean KLD: 0.2478\n",
      "Strategy: zero, Sample: val.0.73728.2 Features: 32, Mean KLD: 0.4897\n",
      "Strategy: random-pos, Sample: val.0.73728.2 Features: 46, Mean KLD: 2.1321\n",
      "Strategy: random, Sample: val.0.73728.2 Features: 43, Mean KLD: 2.3118\n",
      "Strategy: cluster, Sample: val.0.67584.2 Features: 26, Mean KLD: 0.2050\n",
      "Strategy: cluster-nopos, Sample: val.0.67584.2 Features: 35, Mean KLD: 0.2215\n",
      "Strategy: zero, Sample: val.0.67584.2 Features: 33, Mean KLD: 0.1857\n",
      "Strategy: random-pos, Sample: val.0.67584.2 Features: 76, Mean KLD: 1.0084\n",
      "Strategy: random, Sample: val.0.67584.2 Features: 67, Mean KLD: 1.1060\n",
      "Strategy: cluster, Sample: val.0.6144.2 Features: 8, Mean KLD: 0.0529\n",
      "Strategy: cluster-nopos, Sample: val.0.6144.2 Features: 13, Mean KLD: 0.1017\n",
      "Strategy: zero, Sample: val.0.6144.2 Features: 18, Mean KLD: 0.1579\n",
      "Strategy: random-pos, Sample: val.0.6144.2 Features: 33, Mean KLD: 0.3478\n",
      "Strategy: random, Sample: val.0.6144.2 Features: 41, Mean KLD: 0.4638\n",
      "Strategy: cluster, Sample: val.0.46080.2 Features: 5, Mean KLD: 0.0495\n",
      "Strategy: cluster-nopos, Sample: val.0.46080.2 Features: 18, Mean KLD: 0.1745\n",
      "Strategy: zero, Sample: val.0.46080.2 Features: 11, Mean KLD: 0.1094\n",
      "Strategy: random-pos, Sample: val.0.46080.2 Features: 19, Mean KLD: 0.2522\n",
      "Strategy: random, Sample: val.0.46080.2 Features: 26, Mean KLD: 0.2704\n",
      "Strategy: cluster, Sample: val.0.56320.2 Features: 7, Mean KLD: 0.0840\n",
      "Strategy: cluster-nopos, Sample: val.0.56320.2 Features: 13, Mean KLD: 0.0892\n",
      "Strategy: zero, Sample: val.0.56320.2 Features: 19, Mean KLD: 0.1109\n",
      "Strategy: random-pos, Sample: val.0.56320.2 Features: 37, Mean KLD: 0.9174\n",
      "Strategy: random, Sample: val.0.56320.2 Features: 46, Mean KLD: 0.9264\n",
      "Strategy: cluster, Sample: val.0.71680.2 Features: 5, Mean KLD: 0.0353\n",
      "Strategy: cluster-nopos, Sample: val.0.71680.2 Features: 12, Mean KLD: 0.1562\n",
      "Strategy: zero, Sample: val.0.71680.2 Features: 9, Mean KLD: 0.1516\n",
      "Strategy: random-pos, Sample: val.0.71680.2 Features: 23, Mean KLD: 0.2566\n",
      "Strategy: random, Sample: val.0.71680.2 Features: 24, Mean KLD: 0.3059\n",
      "Strategy: cluster, Sample: val.0.82944.2 Features: 17, Mean KLD: 0.2478\n",
      "Strategy: cluster-nopos, Sample: val.0.82944.2 Features: 25, Mean KLD: 0.2832\n",
      "Strategy: zero, Sample: val.0.82944.2 Features: 34, Mean KLD: 0.2207\n",
      "Strategy: random-pos, Sample: val.0.82944.2 Features: 61, Mean KLD: 1.0095\n",
      "Strategy: random, Sample: val.0.82944.2 Features: 50, Mean KLD: 1.4425\n",
      "Strategy: cluster, Sample: val.0.65536.2 Features: 15, Mean KLD: 0.1240\n",
      "Strategy: cluster-nopos, Sample: val.0.65536.2 Features: 19, Mean KLD: 0.0813\n",
      "Strategy: zero, Sample: val.0.65536.2 Features: 44, Mean KLD: 0.2832\n",
      "Strategy: random-pos, Sample: val.0.65536.2 Features: 35, Mean KLD: 0.3690\n",
      "Strategy: random, Sample: val.0.65536.2 Features: 54, Mean KLD: 0.3351\n",
      "Strategy: cluster, Sample: val.0.100352.2 Features: 5, Mean KLD: 0.0875\n",
      "Strategy: cluster-nopos, Sample: val.0.100352.2 Features: 13, Mean KLD: 0.1810\n",
      "Strategy: zero, Sample: val.0.100352.2 Features: 13, Mean KLD: 0.1619\n",
      "Strategy: random-pos, Sample: val.0.100352.2 Features: 23, Mean KLD: 0.2661\n",
      "Strategy: random, Sample: val.0.100352.2 Features: 27, Mean KLD: 0.3145\n",
      "Strategy: cluster, Sample: val.0.28672.2 Features: 15, Mean KLD: 0.1130\n",
      "Strategy: cluster-nopos, Sample: val.0.28672.2 Features: 17, Mean KLD: 0.0877\n",
      "Strategy: zero, Sample: val.0.28672.2 Features: 35, Mean KLD: 0.4019\n",
      "Strategy: random-pos, Sample: val.0.28672.2 Features: 40, Mean KLD: 0.6787\n",
      "Strategy: random, Sample: val.0.28672.2 Features: 48, Mean KLD: 0.7913\n",
      "Strategy: cluster, Sample: val.0.27648.2 Features: 17, Mean KLD: 0.2037\n",
      "Strategy: cluster-nopos, Sample: val.0.27648.2 Features: 23, Mean KLD: 0.1961\n",
      "Strategy: zero, Sample: val.0.27648.2 Features: 14, Mean KLD: 0.0561\n",
      "Strategy: random-pos, Sample: val.0.27648.2 Features: 61, Mean KLD: 0.4632\n",
      "Strategy: random, Sample: val.0.27648.2 Features: 65, Mean KLD: 0.7020\n",
      "Strategy: cluster, Sample: val.0.44032.2 Features: 9, Mean KLD: 0.0464\n",
      "Strategy: cluster-nopos, Sample: val.0.44032.2 Features: 14, Mean KLD: 0.0535\n",
      "Strategy: zero, Sample: val.0.44032.2 Features: 25, Mean KLD: 0.2012\n",
      "Strategy: random-pos, Sample: val.0.44032.2 Features: 47, Mean KLD: 0.8249\n",
      "Strategy: random, Sample: val.0.44032.2 Features: 59, Mean KLD: 0.9653\n",
      "Strategy: cluster, Sample: val.0.24576.2 Features: 35, Mean KLD: 0.2236\n",
      "Strategy: cluster-nopos, Sample: val.0.24576.2 Features: 39, Mean KLD: 0.2393\n",
      "Strategy: zero, Sample: val.0.24576.2 Features: 42, Mean KLD: 0.4515\n",
      "Strategy: random-pos, Sample: val.0.24576.2 Features: 60, Mean KLD: 1.0942\n",
      "Strategy: random, Sample: val.0.24576.2 Features: 58, Mean KLD: 1.3771\n",
      "Strategy: cluster, Sample: val.0.91136.2 Features: 70, Mean KLD: 0.6656\n",
      "Strategy: cluster-nopos, Sample: val.0.91136.2 Features: 62, Mean KLD: 0.7594\n",
      "Strategy: zero, Sample: val.0.91136.2 Features: 67, Mean KLD: 0.3509\n",
      "Strategy: random-pos, Sample: val.0.91136.2 Features: 54, Mean KLD: 1.8446\n",
      "Strategy: random, Sample: val.0.91136.2 Features: 55, Mean KLD: 1.8611\n",
      "Strategy: cluster, Sample: val.0.5120.2 Features: 5, Mean KLD: 0.0244\n",
      "Strategy: cluster-nopos, Sample: val.0.5120.2 Features: 9, Mean KLD: 0.1042\n",
      "Strategy: zero, Sample: val.0.5120.2 Features: 13, Mean KLD: 0.0763\n",
      "Strategy: random-pos, Sample: val.0.5120.2 Features: 46, Mean KLD: 0.6081\n",
      "Strategy: random, Sample: val.0.5120.2 Features: 65, Mean KLD: 0.6620\n",
      "Strategy: cluster, Sample: val.0.69632.2 Features: 53, Mean KLD: 0.2502\n",
      "Strategy: cluster-nopos, Sample: val.0.69632.2 Features: 62, Mean KLD: 0.2669\n",
      "Strategy: zero, Sample: val.0.69632.2 Features: 72, Mean KLD: 0.2956\n",
      "Strategy: random-pos, Sample: val.0.69632.2 Features: 71, Mean KLD: 1.2390\n",
      "Strategy: random, Sample: val.0.69632.2 Features: 67, Mean KLD: 1.7436\n"
     ]
    }
   ],
   "source": [
    "import json\n",
    "from pathlib import Path\n",
    "\n",
    "import pandas as pd\n",
    "\n",
    "# Configurations\n",
    "strategies = {\n",
    "    \"cluster\": {\n",
    "        \"label\": \"Cluster resampling\",\n",
    "        \"label_alt\": \"Cluster resampling<br>using positional dimension\",\n",
    "        \"color\": \"royalblue\",\n",
    "        \"data\": []\n",
    "    },\n",
    "    \"cluster-nopos\": {\n",
    "        \"label\": \"Cluster resampling\",\n",
    "        \"label_alt\": \"Cluster resampling<br>w/o positional dimension\",\n",
    "        \"color\": \"royalblue\",\n",
    "        \"data\": []\n",
    "    },\n",
    "    \"zero\": {\n",
    "        \"label\": \"Zero ablation\",\n",
    "        \"color\": \"lightseagreen\",\n",
    "        \"data\": []\n",
    "    },\n",
    "    \"random-pos\": {\n",
    "        \"label\": \"Conventional resampling<br>using token position\",\n",
    "        \"color\": \"indianred\",\n",
    "        \"data\": []\n",
    "    },\n",
    "    \"random\": {\n",
    "        \"label\": \"Conventional resampling\",\n",
    "        \"color\": \"indianred\",\n",
    "        \"data\": []\n",
    "    },\n",
    "}\n",
    "model_name = \"e2e.jumprelu.shakespeare_64x4\"\n",
    "\n",
    "# Populate data\n",
    "dirpath = Path(f\"../../checkpoints/{model_name}/ablation-comparisons\")\n",
    "for sample_dir in dirpath.iterdir():\n",
    "    if sample_dir.is_dir():\n",
    "        # For each strategy, list all sample directories\n",
    "        for strategy, profile in strategies.items():\n",
    "            # Load data\n",
    "            data_path = sample_dir / f\"{strategy}.json\"\n",
    "            if data_path.exists():\n",
    "                with open(data_path, \"r\") as f:\n",
    "                    data = json.load(f)\n",
    "\n",
    "                # Compute metrics\n",
    "                num_features = data[\"num_nodes\"]\n",
    "                mean_kld = sum(data[\"klds\"].values()) / len(data[\"klds\"])\n",
    "                print(f\"Strategy: {strategy}, Sample: {sample_dir.name} Features: {num_features}, Mean KLD: {mean_kld:.4f}\")\n",
    "\n",
    "                # Append data\n",
    "                profile[\"data\"].append({\n",
    "                    \"strategy\": strategy,\n",
    "                    \"label\": profile[\"label\"],\n",
    "                    \"label_alt\": profile.get(\"label_alt\", \"\"),\n",
    "                    \"sample\": sample_dir.name,\n",
    "                    \"num_features\": num_features,\n",
    "                    \"mean_kld\": mean_kld,\n",
    "                })\n",
    "\n",
    "# Convert lists to DataFrames\n",
    "for strategy, profile in strategies.items():\n",
    "    profile[\"data\"] = pd.DataFrame(profile[\"data\"]) # type: ignore"
   ]
  },
  {
   "cell_type": "code",
   "execution_count": 34,
   "metadata": {},
   "outputs": [
    {
     "data": {
      "application/vnd.plotly.v1+json": {
       "config": {
        "plotlyServerURL": "https://plot.ly"
       },
       "data": [
        {
         "boxpoints": "all",
         "marker": {
          "color": "royalblue",
          "size": 3
         },
         "type": "box",
         "x": [
          "Cluster resampling",
          "Cluster resampling",
          "Cluster resampling",
          "Cluster resampling",
          "Cluster resampling",
          "Cluster resampling",
          "Cluster resampling",
          "Cluster resampling",
          "Cluster resampling",
          "Cluster resampling",
          "Cluster resampling",
          "Cluster resampling",
          "Cluster resampling",
          "Cluster resampling",
          "Cluster resampling",
          "Cluster resampling",
          "Cluster resampling",
          "Cluster resampling",
          "Cluster resampling",
          "Cluster resampling",
          "Cluster resampling",
          "Cluster resampling",
          "Cluster resampling",
          "Cluster resampling",
          "Cluster resampling",
          "Cluster resampling",
          "Cluster resampling",
          "Cluster resampling",
          "Cluster resampling",
          "Cluster resampling",
          "Cluster resampling",
          "Cluster resampling",
          "Cluster resampling",
          "Cluster resampling",
          "Cluster resampling",
          "Cluster resampling",
          "Cluster resampling",
          "Cluster resampling",
          "Cluster resampling",
          "Cluster resampling",
          "Cluster resampling",
          "Cluster resampling",
          "Cluster resampling",
          "Cluster resampling",
          "Cluster resampling",
          "Cluster resampling",
          "Cluster resampling",
          "Cluster resampling",
          "Cluster resampling",
          "Cluster resampling",
          "Cluster resampling",
          "Cluster resampling",
          "Cluster resampling",
          "Cluster resampling",
          "Cluster resampling",
          "Cluster resampling",
          "Cluster resampling",
          "Cluster resampling",
          "Cluster resampling",
          "Cluster resampling",
          "Cluster resampling",
          "Cluster resampling",
          "Cluster resampling",
          "Cluster resampling",
          "Cluster resampling",
          "Cluster resampling",
          "Cluster resampling",
          "Cluster resampling",
          "Cluster resampling",
          "Cluster resampling",
          "Cluster resampling",
          "Cluster resampling",
          "Cluster resampling",
          "Cluster resampling",
          "Cluster resampling",
          "Cluster resampling",
          "Cluster resampling",
          "Cluster resampling",
          "Cluster resampling",
          "Cluster resampling",
          "Cluster resampling",
          "Cluster resampling",
          "Cluster resampling",
          "Cluster resampling",
          "Cluster resampling",
          "Cluster resampling",
          "Cluster resampling",
          "Cluster resampling",
          "Cluster resampling",
          "Cluster resampling",
          "Cluster resampling",
          "Cluster resampling",
          "Cluster resampling",
          "Cluster resampling",
          "Cluster resampling",
          "Cluster resampling",
          "Cluster resampling",
          "Cluster resampling",
          "Cluster resampling",
          "Cluster resampling"
         ],
         "y": {
          "bdata": "CAUOCQUVBSETEAgWBRoFDAwUFisQBRsMBxAjCBUHHAUICAgPCAkaBgYPDgkbBSEFESIWBQ4fDQpJLRwVDRwFNQUHBRIFEA0lFQUiEwcOCgUxKA8xIBoIBQcFEQ8FDxEJI0YFNQ==",
          "dtype": "i1"
         }
        },
        {
         "mode": "text",
         "showlegend": false,
         "text": [
          "14"
         ],
         "textposition": "top center",
         "type": "scatter",
         "x": [
          "Cluster resampling"
         ],
         "y": [
          14
         ]
        },
        {
         "boxpoints": "all",
         "marker": {
          "color": "lightseagreen",
          "size": 3
         },
         "type": "box",
         "x": [
          "Zero ablation",
          "Zero ablation",
          "Zero ablation",
          "Zero ablation",
          "Zero ablation",
          "Zero ablation",
          "Zero ablation",
          "Zero ablation",
          "Zero ablation",
          "Zero ablation",
          "Zero ablation",
          "Zero ablation",
          "Zero ablation",
          "Zero ablation",
          "Zero ablation",
          "Zero ablation",
          "Zero ablation",
          "Zero ablation",
          "Zero ablation",
          "Zero ablation",
          "Zero ablation",
          "Zero ablation",
          "Zero ablation",
          "Zero ablation",
          "Zero ablation",
          "Zero ablation",
          "Zero ablation",
          "Zero ablation",
          "Zero ablation",
          "Zero ablation",
          "Zero ablation",
          "Zero ablation",
          "Zero ablation",
          "Zero ablation",
          "Zero ablation",
          "Zero ablation",
          "Zero ablation",
          "Zero ablation",
          "Zero ablation",
          "Zero ablation",
          "Zero ablation",
          "Zero ablation",
          "Zero ablation",
          "Zero ablation",
          "Zero ablation",
          "Zero ablation",
          "Zero ablation",
          "Zero ablation",
          "Zero ablation",
          "Zero ablation",
          "Zero ablation",
          "Zero ablation",
          "Zero ablation",
          "Zero ablation",
          "Zero ablation",
          "Zero ablation",
          "Zero ablation",
          "Zero ablation",
          "Zero ablation",
          "Zero ablation",
          "Zero ablation",
          "Zero ablation",
          "Zero ablation",
          "Zero ablation",
          "Zero ablation",
          "Zero ablation",
          "Zero ablation",
          "Zero ablation",
          "Zero ablation",
          "Zero ablation",
          "Zero ablation",
          "Zero ablation",
          "Zero ablation",
          "Zero ablation",
          "Zero ablation",
          "Zero ablation",
          "Zero ablation",
          "Zero ablation",
          "Zero ablation",
          "Zero ablation",
          "Zero ablation",
          "Zero ablation",
          "Zero ablation",
          "Zero ablation",
          "Zero ablation",
          "Zero ablation",
          "Zero ablation",
          "Zero ablation",
          "Zero ablation",
          "Zero ablation",
          "Zero ablation",
          "Zero ablation",
          "Zero ablation",
          "Zero ablation",
          "Zero ablation",
          "Zero ablation",
          "Zero ablation",
          "Zero ablation",
          "Zero ablation",
          "Zero ablation"
         ],
         "y": {
          "bdata": "GggVIgopDjEzIhUbCSkKHydCNDkTCS4YExMoHSkVHA8jGRQZFhkdDx8iKBgfER4JLyNCCzIiGCZCOy8fDDgMNgoSDDQLJCotKQkhFiIhIgs2SSMxICESCxMJIiwNIw4ZKkMNSA==",
          "dtype": "i1"
         }
        },
        {
         "mode": "text",
         "showlegend": false,
         "text": [
          "31"
         ],
         "textposition": "top center",
         "type": "scatter",
         "x": [
          "Zero ablation"
         ],
         "y": [
          31
         ]
        },
        {
         "boxpoints": "all",
         "marker": {
          "color": "indianred",
          "size": 3
         },
         "type": "box",
         "x": [
          "Conventional resampling",
          "Conventional resampling",
          "Conventional resampling",
          "Conventional resampling",
          "Conventional resampling",
          "Conventional resampling",
          "Conventional resampling",
          "Conventional resampling",
          "Conventional resampling",
          "Conventional resampling",
          "Conventional resampling",
          "Conventional resampling",
          "Conventional resampling",
          "Conventional resampling",
          "Conventional resampling",
          "Conventional resampling",
          "Conventional resampling",
          "Conventional resampling",
          "Conventional resampling",
          "Conventional resampling",
          "Conventional resampling",
          "Conventional resampling",
          "Conventional resampling",
          "Conventional resampling",
          "Conventional resampling",
          "Conventional resampling",
          "Conventional resampling",
          "Conventional resampling",
          "Conventional resampling",
          "Conventional resampling",
          "Conventional resampling",
          "Conventional resampling",
          "Conventional resampling",
          "Conventional resampling",
          "Conventional resampling",
          "Conventional resampling",
          "Conventional resampling",
          "Conventional resampling",
          "Conventional resampling",
          "Conventional resampling",
          "Conventional resampling",
          "Conventional resampling",
          "Conventional resampling",
          "Conventional resampling",
          "Conventional resampling",
          "Conventional resampling",
          "Conventional resampling",
          "Conventional resampling",
          "Conventional resampling",
          "Conventional resampling",
          "Conventional resampling",
          "Conventional resampling",
          "Conventional resampling",
          "Conventional resampling",
          "Conventional resampling",
          "Conventional resampling",
          "Conventional resampling",
          "Conventional resampling",
          "Conventional resampling",
          "Conventional resampling",
          "Conventional resampling",
          "Conventional resampling",
          "Conventional resampling",
          "Conventional resampling",
          "Conventional resampling",
          "Conventional resampling",
          "Conventional resampling",
          "Conventional resampling",
          "Conventional resampling",
          "Conventional resampling",
          "Conventional resampling",
          "Conventional resampling",
          "Conventional resampling",
          "Conventional resampling",
          "Conventional resampling",
          "Conventional resampling",
          "Conventional resampling",
          "Conventional resampling",
          "Conventional resampling",
          "Conventional resampling",
          "Conventional resampling",
          "Conventional resampling",
          "Conventional resampling",
          "Conventional resampling",
          "Conventional resampling",
          "Conventional resampling",
          "Conventional resampling",
          "Conventional resampling",
          "Conventional resampling",
          "Conventional resampling",
          "Conventional resampling",
          "Conventional resampling",
          "Conventional resampling",
          "Conventional resampling",
          "Conventional resampling",
          "Conventional resampling",
          "Conventional resampling",
          "Conventional resampling",
          "Conventional resampling",
          "Conventional resampling"
         ],
         "y": {
          "bdata": "PBo1PRs0Mi4zMzNFHisYLSorNUcoJTgzMTclKSw0LR0wOi8rMjc1PjMoK0NMLy0eLz4pOCc8Mi0qLjZDPkEVLBw4FzMdQTAsQB4xMjw5QxsrPj4zK0MpGi4YMjYbMEE7OjdBQw==",
          "dtype": "i1"
         }
        },
        {
         "mode": "text",
         "showlegend": false,
         "text": [
          "50"
         ],
         "textposition": "top center",
         "type": "scatter",
         "x": [
          "Conventional resampling"
         ],
         "y": [
          50
         ]
        }
       ],
       "layout": {
        "showlegend": false,
        "template": {
         "data": {
          "bar": [
           {
            "error_x": {
             "color": "#2a3f5f"
            },
            "error_y": {
             "color": "#2a3f5f"
            },
            "marker": {
             "line": {
              "color": "#E5ECF6",
              "width": 0.5
             },
             "pattern": {
              "fillmode": "overlay",
              "size": 10,
              "solidity": 0.2
             }
            },
            "type": "bar"
           }
          ],
          "barpolar": [
           {
            "marker": {
             "line": {
              "color": "#E5ECF6",
              "width": 0.5
             },
             "pattern": {
              "fillmode": "overlay",
              "size": 10,
              "solidity": 0.2
             }
            },
            "type": "barpolar"
           }
          ],
          "carpet": [
           {
            "aaxis": {
             "endlinecolor": "#2a3f5f",
             "gridcolor": "white",
             "linecolor": "white",
             "minorgridcolor": "white",
             "startlinecolor": "#2a3f5f"
            },
            "baxis": {
             "endlinecolor": "#2a3f5f",
             "gridcolor": "white",
             "linecolor": "white",
             "minorgridcolor": "white",
             "startlinecolor": "#2a3f5f"
            },
            "type": "carpet"
           }
          ],
          "choropleth": [
           {
            "colorbar": {
             "outlinewidth": 0,
             "ticks": ""
            },
            "type": "choropleth"
           }
          ],
          "contour": [
           {
            "colorbar": {
             "outlinewidth": 0,
             "ticks": ""
            },
            "colorscale": [
             [
              0,
              "#0d0887"
             ],
             [
              0.1111111111111111,
              "#46039f"
             ],
             [
              0.2222222222222222,
              "#7201a8"
             ],
             [
              0.3333333333333333,
              "#9c179e"
             ],
             [
              0.4444444444444444,
              "#bd3786"
             ],
             [
              0.5555555555555556,
              "#d8576b"
             ],
             [
              0.6666666666666666,
              "#ed7953"
             ],
             [
              0.7777777777777778,
              "#fb9f3a"
             ],
             [
              0.8888888888888888,
              "#fdca26"
             ],
             [
              1,
              "#f0f921"
             ]
            ],
            "type": "contour"
           }
          ],
          "contourcarpet": [
           {
            "colorbar": {
             "outlinewidth": 0,
             "ticks": ""
            },
            "type": "contourcarpet"
           }
          ],
          "heatmap": [
           {
            "colorbar": {
             "outlinewidth": 0,
             "ticks": ""
            },
            "colorscale": [
             [
              0,
              "#0d0887"
             ],
             [
              0.1111111111111111,
              "#46039f"
             ],
             [
              0.2222222222222222,
              "#7201a8"
             ],
             [
              0.3333333333333333,
              "#9c179e"
             ],
             [
              0.4444444444444444,
              "#bd3786"
             ],
             [
              0.5555555555555556,
              "#d8576b"
             ],
             [
              0.6666666666666666,
              "#ed7953"
             ],
             [
              0.7777777777777778,
              "#fb9f3a"
             ],
             [
              0.8888888888888888,
              "#fdca26"
             ],
             [
              1,
              "#f0f921"
             ]
            ],
            "type": "heatmap"
           }
          ],
          "histogram": [
           {
            "marker": {
             "pattern": {
              "fillmode": "overlay",
              "size": 10,
              "solidity": 0.2
             }
            },
            "type": "histogram"
           }
          ],
          "histogram2d": [
           {
            "colorbar": {
             "outlinewidth": 0,
             "ticks": ""
            },
            "colorscale": [
             [
              0,
              "#0d0887"
             ],
             [
              0.1111111111111111,
              "#46039f"
             ],
             [
              0.2222222222222222,
              "#7201a8"
             ],
             [
              0.3333333333333333,
              "#9c179e"
             ],
             [
              0.4444444444444444,
              "#bd3786"
             ],
             [
              0.5555555555555556,
              "#d8576b"
             ],
             [
              0.6666666666666666,
              "#ed7953"
             ],
             [
              0.7777777777777778,
              "#fb9f3a"
             ],
             [
              0.8888888888888888,
              "#fdca26"
             ],
             [
              1,
              "#f0f921"
             ]
            ],
            "type": "histogram2d"
           }
          ],
          "histogram2dcontour": [
           {
            "colorbar": {
             "outlinewidth": 0,
             "ticks": ""
            },
            "colorscale": [
             [
              0,
              "#0d0887"
             ],
             [
              0.1111111111111111,
              "#46039f"
             ],
             [
              0.2222222222222222,
              "#7201a8"
             ],
             [
              0.3333333333333333,
              "#9c179e"
             ],
             [
              0.4444444444444444,
              "#bd3786"
             ],
             [
              0.5555555555555556,
              "#d8576b"
             ],
             [
              0.6666666666666666,
              "#ed7953"
             ],
             [
              0.7777777777777778,
              "#fb9f3a"
             ],
             [
              0.8888888888888888,
              "#fdca26"
             ],
             [
              1,
              "#f0f921"
             ]
            ],
            "type": "histogram2dcontour"
           }
          ],
          "mesh3d": [
           {
            "colorbar": {
             "outlinewidth": 0,
             "ticks": ""
            },
            "type": "mesh3d"
           }
          ],
          "parcoords": [
           {
            "line": {
             "colorbar": {
              "outlinewidth": 0,
              "ticks": ""
             }
            },
            "type": "parcoords"
           }
          ],
          "pie": [
           {
            "automargin": true,
            "type": "pie"
           }
          ],
          "scatter": [
           {
            "fillpattern": {
             "fillmode": "overlay",
             "size": 10,
             "solidity": 0.2
            },
            "type": "scatter"
           }
          ],
          "scatter3d": [
           {
            "line": {
             "colorbar": {
              "outlinewidth": 0,
              "ticks": ""
             }
            },
            "marker": {
             "colorbar": {
              "outlinewidth": 0,
              "ticks": ""
             }
            },
            "type": "scatter3d"
           }
          ],
          "scattercarpet": [
           {
            "marker": {
             "colorbar": {
              "outlinewidth": 0,
              "ticks": ""
             }
            },
            "type": "scattercarpet"
           }
          ],
          "scattergeo": [
           {
            "marker": {
             "colorbar": {
              "outlinewidth": 0,
              "ticks": ""
             }
            },
            "type": "scattergeo"
           }
          ],
          "scattergl": [
           {
            "marker": {
             "colorbar": {
              "outlinewidth": 0,
              "ticks": ""
             }
            },
            "type": "scattergl"
           }
          ],
          "scattermap": [
           {
            "marker": {
             "colorbar": {
              "outlinewidth": 0,
              "ticks": ""
             }
            },
            "type": "scattermap"
           }
          ],
          "scattermapbox": [
           {
            "marker": {
             "colorbar": {
              "outlinewidth": 0,
              "ticks": ""
             }
            },
            "type": "scattermapbox"
           }
          ],
          "scatterpolar": [
           {
            "marker": {
             "colorbar": {
              "outlinewidth": 0,
              "ticks": ""
             }
            },
            "type": "scatterpolar"
           }
          ],
          "scatterpolargl": [
           {
            "marker": {
             "colorbar": {
              "outlinewidth": 0,
              "ticks": ""
             }
            },
            "type": "scatterpolargl"
           }
          ],
          "scatterternary": [
           {
            "marker": {
             "colorbar": {
              "outlinewidth": 0,
              "ticks": ""
             }
            },
            "type": "scatterternary"
           }
          ],
          "surface": [
           {
            "colorbar": {
             "outlinewidth": 0,
             "ticks": ""
            },
            "colorscale": [
             [
              0,
              "#0d0887"
             ],
             [
              0.1111111111111111,
              "#46039f"
             ],
             [
              0.2222222222222222,
              "#7201a8"
             ],
             [
              0.3333333333333333,
              "#9c179e"
             ],
             [
              0.4444444444444444,
              "#bd3786"
             ],
             [
              0.5555555555555556,
              "#d8576b"
             ],
             [
              0.6666666666666666,
              "#ed7953"
             ],
             [
              0.7777777777777778,
              "#fb9f3a"
             ],
             [
              0.8888888888888888,
              "#fdca26"
             ],
             [
              1,
              "#f0f921"
             ]
            ],
            "type": "surface"
           }
          ],
          "table": [
           {
            "cells": {
             "fill": {
              "color": "#EBF0F8"
             },
             "line": {
              "color": "white"
             }
            },
            "header": {
             "fill": {
              "color": "#C8D4E3"
             },
             "line": {
              "color": "white"
             }
            },
            "type": "table"
           }
          ]
         },
         "layout": {
          "annotationdefaults": {
           "arrowcolor": "#2a3f5f",
           "arrowhead": 0,
           "arrowwidth": 1
          },
          "autotypenumbers": "strict",
          "coloraxis": {
           "colorbar": {
            "outlinewidth": 0,
            "ticks": ""
           }
          },
          "colorscale": {
           "diverging": [
            [
             0,
             "#8e0152"
            ],
            [
             0.1,
             "#c51b7d"
            ],
            [
             0.2,
             "#de77ae"
            ],
            [
             0.3,
             "#f1b6da"
            ],
            [
             0.4,
             "#fde0ef"
            ],
            [
             0.5,
             "#f7f7f7"
            ],
            [
             0.6,
             "#e6f5d0"
            ],
            [
             0.7,
             "#b8e186"
            ],
            [
             0.8,
             "#7fbc41"
            ],
            [
             0.9,
             "#4d9221"
            ],
            [
             1,
             "#276419"
            ]
           ],
           "sequential": [
            [
             0,
             "#0d0887"
            ],
            [
             0.1111111111111111,
             "#46039f"
            ],
            [
             0.2222222222222222,
             "#7201a8"
            ],
            [
             0.3333333333333333,
             "#9c179e"
            ],
            [
             0.4444444444444444,
             "#bd3786"
            ],
            [
             0.5555555555555556,
             "#d8576b"
            ],
            [
             0.6666666666666666,
             "#ed7953"
            ],
            [
             0.7777777777777778,
             "#fb9f3a"
            ],
            [
             0.8888888888888888,
             "#fdca26"
            ],
            [
             1,
             "#f0f921"
            ]
           ],
           "sequentialminus": [
            [
             0,
             "#0d0887"
            ],
            [
             0.1111111111111111,
             "#46039f"
            ],
            [
             0.2222222222222222,
             "#7201a8"
            ],
            [
             0.3333333333333333,
             "#9c179e"
            ],
            [
             0.4444444444444444,
             "#bd3786"
            ],
            [
             0.5555555555555556,
             "#d8576b"
            ],
            [
             0.6666666666666666,
             "#ed7953"
            ],
            [
             0.7777777777777778,
             "#fb9f3a"
            ],
            [
             0.8888888888888888,
             "#fdca26"
            ],
            [
             1,
             "#f0f921"
            ]
           ]
          },
          "colorway": [
           "#636efa",
           "#EF553B",
           "#00cc96",
           "#ab63fa",
           "#FFA15A",
           "#19d3f3",
           "#FF6692",
           "#B6E880",
           "#FF97FF",
           "#FECB52"
          ],
          "font": {
           "color": "#2a3f5f"
          },
          "geo": {
           "bgcolor": "white",
           "lakecolor": "white",
           "landcolor": "#E5ECF6",
           "showlakes": true,
           "showland": true,
           "subunitcolor": "white"
          },
          "hoverlabel": {
           "align": "left"
          },
          "hovermode": "closest",
          "mapbox": {
           "style": "light"
          },
          "paper_bgcolor": "white",
          "plot_bgcolor": "#E5ECF6",
          "polar": {
           "angularaxis": {
            "gridcolor": "white",
            "linecolor": "white",
            "ticks": ""
           },
           "bgcolor": "#E5ECF6",
           "radialaxis": {
            "gridcolor": "white",
            "linecolor": "white",
            "ticks": ""
           }
          },
          "scene": {
           "xaxis": {
            "backgroundcolor": "#E5ECF6",
            "gridcolor": "white",
            "gridwidth": 2,
            "linecolor": "white",
            "showbackground": true,
            "ticks": "",
            "zerolinecolor": "white"
           },
           "yaxis": {
            "backgroundcolor": "#E5ECF6",
            "gridcolor": "white",
            "gridwidth": 2,
            "linecolor": "white",
            "showbackground": true,
            "ticks": "",
            "zerolinecolor": "white"
           },
           "zaxis": {
            "backgroundcolor": "#E5ECF6",
            "gridcolor": "white",
            "gridwidth": 2,
            "linecolor": "white",
            "showbackground": true,
            "ticks": "",
            "zerolinecolor": "white"
           }
          },
          "shapedefaults": {
           "line": {
            "color": "#2a3f5f"
           }
          },
          "ternary": {
           "aaxis": {
            "gridcolor": "white",
            "linecolor": "white",
            "ticks": ""
           },
           "baxis": {
            "gridcolor": "white",
            "linecolor": "white",
            "ticks": ""
           },
           "bgcolor": "#E5ECF6",
           "caxis": {
            "gridcolor": "white",
            "linecolor": "white",
            "ticks": ""
           }
          },
          "title": {
           "x": 0.05
          },
          "xaxis": {
           "automargin": true,
           "gridcolor": "white",
           "linecolor": "white",
           "ticks": "",
           "title": {
            "standoff": 15
           },
           "zerolinecolor": "white",
           "zerolinewidth": 2
          },
          "yaxis": {
           "automargin": true,
           "gridcolor": "white",
           "linecolor": "white",
           "ticks": "",
           "title": {
            "standoff": 15
           },
           "zerolinecolor": "white",
           "zerolinewidth": 2
          }
         }
        },
        "xaxis": {
         "tickangle": 0,
         "title": {
          "text": ""
         }
        },
        "yaxis": {
         "title": {
          "text": ""
         }
        }
       }
      }
     },
     "metadata": {},
     "output_type": "display_data"
    },
    {
     "data": {
      "application/vnd.plotly.v1+json": {
       "config": {
        "plotlyServerURL": "https://plot.ly"
       },
       "data": [
        {
         "boxpoints": "all",
         "marker": {
          "color": "royalblue",
          "size": 3
         },
         "type": "box",
         "x": [
          "Cluster resampling<br>using positional dimension",
          "Cluster resampling<br>using positional dimension",
          "Cluster resampling<br>using positional dimension",
          "Cluster resampling<br>using positional dimension",
          "Cluster resampling<br>using positional dimension",
          "Cluster resampling<br>using positional dimension",
          "Cluster resampling<br>using positional dimension",
          "Cluster resampling<br>using positional dimension",
          "Cluster resampling<br>using positional dimension",
          "Cluster resampling<br>using positional dimension",
          "Cluster resampling<br>using positional dimension",
          "Cluster resampling<br>using positional dimension",
          "Cluster resampling<br>using positional dimension",
          "Cluster resampling<br>using positional dimension",
          "Cluster resampling<br>using positional dimension",
          "Cluster resampling<br>using positional dimension",
          "Cluster resampling<br>using positional dimension",
          "Cluster resampling<br>using positional dimension",
          "Cluster resampling<br>using positional dimension",
          "Cluster resampling<br>using positional dimension",
          "Cluster resampling<br>using positional dimension",
          "Cluster resampling<br>using positional dimension",
          "Cluster resampling<br>using positional dimension",
          "Cluster resampling<br>using positional dimension",
          "Cluster resampling<br>using positional dimension",
          "Cluster resampling<br>using positional dimension",
          "Cluster resampling<br>using positional dimension",
          "Cluster resampling<br>using positional dimension",
          "Cluster resampling<br>using positional dimension",
          "Cluster resampling<br>using positional dimension",
          "Cluster resampling<br>using positional dimension",
          "Cluster resampling<br>using positional dimension",
          "Cluster resampling<br>using positional dimension",
          "Cluster resampling<br>using positional dimension",
          "Cluster resampling<br>using positional dimension",
          "Cluster resampling<br>using positional dimension",
          "Cluster resampling<br>using positional dimension",
          "Cluster resampling<br>using positional dimension",
          "Cluster resampling<br>using positional dimension",
          "Cluster resampling<br>using positional dimension",
          "Cluster resampling<br>using positional dimension",
          "Cluster resampling<br>using positional dimension",
          "Cluster resampling<br>using positional dimension",
          "Cluster resampling<br>using positional dimension",
          "Cluster resampling<br>using positional dimension",
          "Cluster resampling<br>using positional dimension",
          "Cluster resampling<br>using positional dimension",
          "Cluster resampling<br>using positional dimension",
          "Cluster resampling<br>using positional dimension",
          "Cluster resampling<br>using positional dimension",
          "Cluster resampling<br>using positional dimension",
          "Cluster resampling<br>using positional dimension",
          "Cluster resampling<br>using positional dimension",
          "Cluster resampling<br>using positional dimension",
          "Cluster resampling<br>using positional dimension",
          "Cluster resampling<br>using positional dimension",
          "Cluster resampling<br>using positional dimension",
          "Cluster resampling<br>using positional dimension",
          "Cluster resampling<br>using positional dimension",
          "Cluster resampling<br>using positional dimension",
          "Cluster resampling<br>using positional dimension",
          "Cluster resampling<br>using positional dimension",
          "Cluster resampling<br>using positional dimension",
          "Cluster resampling<br>using positional dimension",
          "Cluster resampling<br>using positional dimension",
          "Cluster resampling<br>using positional dimension",
          "Cluster resampling<br>using positional dimension",
          "Cluster resampling<br>using positional dimension",
          "Cluster resampling<br>using positional dimension",
          "Cluster resampling<br>using positional dimension",
          "Cluster resampling<br>using positional dimension",
          "Cluster resampling<br>using positional dimension",
          "Cluster resampling<br>using positional dimension",
          "Cluster resampling<br>using positional dimension",
          "Cluster resampling<br>using positional dimension",
          "Cluster resampling<br>using positional dimension",
          "Cluster resampling<br>using positional dimension",
          "Cluster resampling<br>using positional dimension",
          "Cluster resampling<br>using positional dimension",
          "Cluster resampling<br>using positional dimension",
          "Cluster resampling<br>using positional dimension",
          "Cluster resampling<br>using positional dimension",
          "Cluster resampling<br>using positional dimension",
          "Cluster resampling<br>using positional dimension",
          "Cluster resampling<br>using positional dimension",
          "Cluster resampling<br>using positional dimension",
          "Cluster resampling<br>using positional dimension",
          "Cluster resampling<br>using positional dimension",
          "Cluster resampling<br>using positional dimension",
          "Cluster resampling<br>using positional dimension",
          "Cluster resampling<br>using positional dimension",
          "Cluster resampling<br>using positional dimension",
          "Cluster resampling<br>using positional dimension",
          "Cluster resampling<br>using positional dimension",
          "Cluster resampling<br>using positional dimension",
          "Cluster resampling<br>using positional dimension",
          "Cluster resampling<br>using positional dimension",
          "Cluster resampling<br>using positional dimension",
          "Cluster resampling<br>using positional dimension",
          "Cluster resampling<br>using positional dimension"
         ],
         "y": {
          "bdata": "CAUOCQUVBSETEAgWBRoFDAwUFisQBRsMBxAjCBUHHAUICAgPCAkaBgYPDgkbBSEFESIWBQ4fDQpJLRwVDRwFNQUHBRIFEA0lFQUiEwcOCgUxKA8xIBoIBQcFEQ8FDxEJI0YFNQ==",
          "dtype": "i1"
         }
        },
        {
         "mode": "text",
         "showlegend": false,
         "text": [
          "14"
         ],
         "textposition": "top center",
         "type": "scatter",
         "x": [
          "Cluster resampling<br>using positional dimension"
         ],
         "y": [
          14
         ]
        },
        {
         "boxpoints": "all",
         "marker": {
          "color": "royalblue",
          "size": 3
         },
         "type": "box",
         "x": [
          "Cluster resampling<br>w/o positional dimension",
          "Cluster resampling<br>w/o positional dimension",
          "Cluster resampling<br>w/o positional dimension",
          "Cluster resampling<br>w/o positional dimension",
          "Cluster resampling<br>w/o positional dimension",
          "Cluster resampling<br>w/o positional dimension",
          "Cluster resampling<br>w/o positional dimension",
          "Cluster resampling<br>w/o positional dimension",
          "Cluster resampling<br>w/o positional dimension",
          "Cluster resampling<br>w/o positional dimension",
          "Cluster resampling<br>w/o positional dimension",
          "Cluster resampling<br>w/o positional dimension",
          "Cluster resampling<br>w/o positional dimension",
          "Cluster resampling<br>w/o positional dimension",
          "Cluster resampling<br>w/o positional dimension",
          "Cluster resampling<br>w/o positional dimension",
          "Cluster resampling<br>w/o positional dimension",
          "Cluster resampling<br>w/o positional dimension",
          "Cluster resampling<br>w/o positional dimension",
          "Cluster resampling<br>w/o positional dimension",
          "Cluster resampling<br>w/o positional dimension",
          "Cluster resampling<br>w/o positional dimension",
          "Cluster resampling<br>w/o positional dimension",
          "Cluster resampling<br>w/o positional dimension",
          "Cluster resampling<br>w/o positional dimension",
          "Cluster resampling<br>w/o positional dimension",
          "Cluster resampling<br>w/o positional dimension",
          "Cluster resampling<br>w/o positional dimension",
          "Cluster resampling<br>w/o positional dimension",
          "Cluster resampling<br>w/o positional dimension",
          "Cluster resampling<br>w/o positional dimension",
          "Cluster resampling<br>w/o positional dimension",
          "Cluster resampling<br>w/o positional dimension",
          "Cluster resampling<br>w/o positional dimension",
          "Cluster resampling<br>w/o positional dimension",
          "Cluster resampling<br>w/o positional dimension",
          "Cluster resampling<br>w/o positional dimension",
          "Cluster resampling<br>w/o positional dimension",
          "Cluster resampling<br>w/o positional dimension",
          "Cluster resampling<br>w/o positional dimension",
          "Cluster resampling<br>w/o positional dimension",
          "Cluster resampling<br>w/o positional dimension",
          "Cluster resampling<br>w/o positional dimension",
          "Cluster resampling<br>w/o positional dimension",
          "Cluster resampling<br>w/o positional dimension",
          "Cluster resampling<br>w/o positional dimension",
          "Cluster resampling<br>w/o positional dimension",
          "Cluster resampling<br>w/o positional dimension",
          "Cluster resampling<br>w/o positional dimension",
          "Cluster resampling<br>w/o positional dimension",
          "Cluster resampling<br>w/o positional dimension",
          "Cluster resampling<br>w/o positional dimension",
          "Cluster resampling<br>w/o positional dimension",
          "Cluster resampling<br>w/o positional dimension",
          "Cluster resampling<br>w/o positional dimension",
          "Cluster resampling<br>w/o positional dimension",
          "Cluster resampling<br>w/o positional dimension",
          "Cluster resampling<br>w/o positional dimension",
          "Cluster resampling<br>w/o positional dimension",
          "Cluster resampling<br>w/o positional dimension",
          "Cluster resampling<br>w/o positional dimension",
          "Cluster resampling<br>w/o positional dimension",
          "Cluster resampling<br>w/o positional dimension",
          "Cluster resampling<br>w/o positional dimension",
          "Cluster resampling<br>w/o positional dimension",
          "Cluster resampling<br>w/o positional dimension",
          "Cluster resampling<br>w/o positional dimension",
          "Cluster resampling<br>w/o positional dimension",
          "Cluster resampling<br>w/o positional dimension",
          "Cluster resampling<br>w/o positional dimension",
          "Cluster resampling<br>w/o positional dimension",
          "Cluster resampling<br>w/o positional dimension",
          "Cluster resampling<br>w/o positional dimension",
          "Cluster resampling<br>w/o positional dimension",
          "Cluster resampling<br>w/o positional dimension",
          "Cluster resampling<br>w/o positional dimension",
          "Cluster resampling<br>w/o positional dimension",
          "Cluster resampling<br>w/o positional dimension",
          "Cluster resampling<br>w/o positional dimension",
          "Cluster resampling<br>w/o positional dimension",
          "Cluster resampling<br>w/o positional dimension",
          "Cluster resampling<br>w/o positional dimension",
          "Cluster resampling<br>w/o positional dimension",
          "Cluster resampling<br>w/o positional dimension",
          "Cluster resampling<br>w/o positional dimension",
          "Cluster resampling<br>w/o positional dimension",
          "Cluster resampling<br>w/o positional dimension",
          "Cluster resampling<br>w/o positional dimension",
          "Cluster resampling<br>w/o positional dimension",
          "Cluster resampling<br>w/o positional dimension",
          "Cluster resampling<br>w/o positional dimension",
          "Cluster resampling<br>w/o positional dimension",
          "Cluster resampling<br>w/o positional dimension",
          "Cluster resampling<br>w/o positional dimension",
          "Cluster resampling<br>w/o positional dimension",
          "Cluster resampling<br>w/o positional dimension",
          "Cluster resampling<br>w/o positional dimension",
          "Cluster resampling<br>w/o positional dimension",
          "Cluster resampling<br>w/o positional dimension",
          "Cluster resampling<br>w/o positional dimension"
         ],
         "y": {
          "bdata": "EAkPDAkXDjAVEQweCSAMEw4UHTQTDBcRDhIzChcNGAkODAsRDw4ZDwwQDgwbDCgNFSESDRIjEg0qNBobEyEJNg0LDBYKERMmFgkgEQ0SDgktNhMvHyMNEg0MGRMNERcOJz4JPg==",
          "dtype": "i1"
         }
        },
        {
         "mode": "text",
         "showlegend": false,
         "text": [
          "17.5"
         ],
         "textposition": "top center",
         "type": "scatter",
         "x": [
          "Cluster resampling<br>w/o positional dimension"
         ],
         "y": [
          17.5
         ]
        }
       ],
       "layout": {
        "showlegend": false,
        "template": {
         "data": {
          "bar": [
           {
            "error_x": {
             "color": "#2a3f5f"
            },
            "error_y": {
             "color": "#2a3f5f"
            },
            "marker": {
             "line": {
              "color": "#E5ECF6",
              "width": 0.5
             },
             "pattern": {
              "fillmode": "overlay",
              "size": 10,
              "solidity": 0.2
             }
            },
            "type": "bar"
           }
          ],
          "barpolar": [
           {
            "marker": {
             "line": {
              "color": "#E5ECF6",
              "width": 0.5
             },
             "pattern": {
              "fillmode": "overlay",
              "size": 10,
              "solidity": 0.2
             }
            },
            "type": "barpolar"
           }
          ],
          "carpet": [
           {
            "aaxis": {
             "endlinecolor": "#2a3f5f",
             "gridcolor": "white",
             "linecolor": "white",
             "minorgridcolor": "white",
             "startlinecolor": "#2a3f5f"
            },
            "baxis": {
             "endlinecolor": "#2a3f5f",
             "gridcolor": "white",
             "linecolor": "white",
             "minorgridcolor": "white",
             "startlinecolor": "#2a3f5f"
            },
            "type": "carpet"
           }
          ],
          "choropleth": [
           {
            "colorbar": {
             "outlinewidth": 0,
             "ticks": ""
            },
            "type": "choropleth"
           }
          ],
          "contour": [
           {
            "colorbar": {
             "outlinewidth": 0,
             "ticks": ""
            },
            "colorscale": [
             [
              0,
              "#0d0887"
             ],
             [
              0.1111111111111111,
              "#46039f"
             ],
             [
              0.2222222222222222,
              "#7201a8"
             ],
             [
              0.3333333333333333,
              "#9c179e"
             ],
             [
              0.4444444444444444,
              "#bd3786"
             ],
             [
              0.5555555555555556,
              "#d8576b"
             ],
             [
              0.6666666666666666,
              "#ed7953"
             ],
             [
              0.7777777777777778,
              "#fb9f3a"
             ],
             [
              0.8888888888888888,
              "#fdca26"
             ],
             [
              1,
              "#f0f921"
             ]
            ],
            "type": "contour"
           }
          ],
          "contourcarpet": [
           {
            "colorbar": {
             "outlinewidth": 0,
             "ticks": ""
            },
            "type": "contourcarpet"
           }
          ],
          "heatmap": [
           {
            "colorbar": {
             "outlinewidth": 0,
             "ticks": ""
            },
            "colorscale": [
             [
              0,
              "#0d0887"
             ],
             [
              0.1111111111111111,
              "#46039f"
             ],
             [
              0.2222222222222222,
              "#7201a8"
             ],
             [
              0.3333333333333333,
              "#9c179e"
             ],
             [
              0.4444444444444444,
              "#bd3786"
             ],
             [
              0.5555555555555556,
              "#d8576b"
             ],
             [
              0.6666666666666666,
              "#ed7953"
             ],
             [
              0.7777777777777778,
              "#fb9f3a"
             ],
             [
              0.8888888888888888,
              "#fdca26"
             ],
             [
              1,
              "#f0f921"
             ]
            ],
            "type": "heatmap"
           }
          ],
          "histogram": [
           {
            "marker": {
             "pattern": {
              "fillmode": "overlay",
              "size": 10,
              "solidity": 0.2
             }
            },
            "type": "histogram"
           }
          ],
          "histogram2d": [
           {
            "colorbar": {
             "outlinewidth": 0,
             "ticks": ""
            },
            "colorscale": [
             [
              0,
              "#0d0887"
             ],
             [
              0.1111111111111111,
              "#46039f"
             ],
             [
              0.2222222222222222,
              "#7201a8"
             ],
             [
              0.3333333333333333,
              "#9c179e"
             ],
             [
              0.4444444444444444,
              "#bd3786"
             ],
             [
              0.5555555555555556,
              "#d8576b"
             ],
             [
              0.6666666666666666,
              "#ed7953"
             ],
             [
              0.7777777777777778,
              "#fb9f3a"
             ],
             [
              0.8888888888888888,
              "#fdca26"
             ],
             [
              1,
              "#f0f921"
             ]
            ],
            "type": "histogram2d"
           }
          ],
          "histogram2dcontour": [
           {
            "colorbar": {
             "outlinewidth": 0,
             "ticks": ""
            },
            "colorscale": [
             [
              0,
              "#0d0887"
             ],
             [
              0.1111111111111111,
              "#46039f"
             ],
             [
              0.2222222222222222,
              "#7201a8"
             ],
             [
              0.3333333333333333,
              "#9c179e"
             ],
             [
              0.4444444444444444,
              "#bd3786"
             ],
             [
              0.5555555555555556,
              "#d8576b"
             ],
             [
              0.6666666666666666,
              "#ed7953"
             ],
             [
              0.7777777777777778,
              "#fb9f3a"
             ],
             [
              0.8888888888888888,
              "#fdca26"
             ],
             [
              1,
              "#f0f921"
             ]
            ],
            "type": "histogram2dcontour"
           }
          ],
          "mesh3d": [
           {
            "colorbar": {
             "outlinewidth": 0,
             "ticks": ""
            },
            "type": "mesh3d"
           }
          ],
          "parcoords": [
           {
            "line": {
             "colorbar": {
              "outlinewidth": 0,
              "ticks": ""
             }
            },
            "type": "parcoords"
           }
          ],
          "pie": [
           {
            "automargin": true,
            "type": "pie"
           }
          ],
          "scatter": [
           {
            "fillpattern": {
             "fillmode": "overlay",
             "size": 10,
             "solidity": 0.2
            },
            "type": "scatter"
           }
          ],
          "scatter3d": [
           {
            "line": {
             "colorbar": {
              "outlinewidth": 0,
              "ticks": ""
             }
            },
            "marker": {
             "colorbar": {
              "outlinewidth": 0,
              "ticks": ""
             }
            },
            "type": "scatter3d"
           }
          ],
          "scattercarpet": [
           {
            "marker": {
             "colorbar": {
              "outlinewidth": 0,
              "ticks": ""
             }
            },
            "type": "scattercarpet"
           }
          ],
          "scattergeo": [
           {
            "marker": {
             "colorbar": {
              "outlinewidth": 0,
              "ticks": ""
             }
            },
            "type": "scattergeo"
           }
          ],
          "scattergl": [
           {
            "marker": {
             "colorbar": {
              "outlinewidth": 0,
              "ticks": ""
             }
            },
            "type": "scattergl"
           }
          ],
          "scattermap": [
           {
            "marker": {
             "colorbar": {
              "outlinewidth": 0,
              "ticks": ""
             }
            },
            "type": "scattermap"
           }
          ],
          "scattermapbox": [
           {
            "marker": {
             "colorbar": {
              "outlinewidth": 0,
              "ticks": ""
             }
            },
            "type": "scattermapbox"
           }
          ],
          "scatterpolar": [
           {
            "marker": {
             "colorbar": {
              "outlinewidth": 0,
              "ticks": ""
             }
            },
            "type": "scatterpolar"
           }
          ],
          "scatterpolargl": [
           {
            "marker": {
             "colorbar": {
              "outlinewidth": 0,
              "ticks": ""
             }
            },
            "type": "scatterpolargl"
           }
          ],
          "scatterternary": [
           {
            "marker": {
             "colorbar": {
              "outlinewidth": 0,
              "ticks": ""
             }
            },
            "type": "scatterternary"
           }
          ],
          "surface": [
           {
            "colorbar": {
             "outlinewidth": 0,
             "ticks": ""
            },
            "colorscale": [
             [
              0,
              "#0d0887"
             ],
             [
              0.1111111111111111,
              "#46039f"
             ],
             [
              0.2222222222222222,
              "#7201a8"
             ],
             [
              0.3333333333333333,
              "#9c179e"
             ],
             [
              0.4444444444444444,
              "#bd3786"
             ],
             [
              0.5555555555555556,
              "#d8576b"
             ],
             [
              0.6666666666666666,
              "#ed7953"
             ],
             [
              0.7777777777777778,
              "#fb9f3a"
             ],
             [
              0.8888888888888888,
              "#fdca26"
             ],
             [
              1,
              "#f0f921"
             ]
            ],
            "type": "surface"
           }
          ],
          "table": [
           {
            "cells": {
             "fill": {
              "color": "#EBF0F8"
             },
             "line": {
              "color": "white"
             }
            },
            "header": {
             "fill": {
              "color": "#C8D4E3"
             },
             "line": {
              "color": "white"
             }
            },
            "type": "table"
           }
          ]
         },
         "layout": {
          "annotationdefaults": {
           "arrowcolor": "#2a3f5f",
           "arrowhead": 0,
           "arrowwidth": 1
          },
          "autotypenumbers": "strict",
          "coloraxis": {
           "colorbar": {
            "outlinewidth": 0,
            "ticks": ""
           }
          },
          "colorscale": {
           "diverging": [
            [
             0,
             "#8e0152"
            ],
            [
             0.1,
             "#c51b7d"
            ],
            [
             0.2,
             "#de77ae"
            ],
            [
             0.3,
             "#f1b6da"
            ],
            [
             0.4,
             "#fde0ef"
            ],
            [
             0.5,
             "#f7f7f7"
            ],
            [
             0.6,
             "#e6f5d0"
            ],
            [
             0.7,
             "#b8e186"
            ],
            [
             0.8,
             "#7fbc41"
            ],
            [
             0.9,
             "#4d9221"
            ],
            [
             1,
             "#276419"
            ]
           ],
           "sequential": [
            [
             0,
             "#0d0887"
            ],
            [
             0.1111111111111111,
             "#46039f"
            ],
            [
             0.2222222222222222,
             "#7201a8"
            ],
            [
             0.3333333333333333,
             "#9c179e"
            ],
            [
             0.4444444444444444,
             "#bd3786"
            ],
            [
             0.5555555555555556,
             "#d8576b"
            ],
            [
             0.6666666666666666,
             "#ed7953"
            ],
            [
             0.7777777777777778,
             "#fb9f3a"
            ],
            [
             0.8888888888888888,
             "#fdca26"
            ],
            [
             1,
             "#f0f921"
            ]
           ],
           "sequentialminus": [
            [
             0,
             "#0d0887"
            ],
            [
             0.1111111111111111,
             "#46039f"
            ],
            [
             0.2222222222222222,
             "#7201a8"
            ],
            [
             0.3333333333333333,
             "#9c179e"
            ],
            [
             0.4444444444444444,
             "#bd3786"
            ],
            [
             0.5555555555555556,
             "#d8576b"
            ],
            [
             0.6666666666666666,
             "#ed7953"
            ],
            [
             0.7777777777777778,
             "#fb9f3a"
            ],
            [
             0.8888888888888888,
             "#fdca26"
            ],
            [
             1,
             "#f0f921"
            ]
           ]
          },
          "colorway": [
           "#636efa",
           "#EF553B",
           "#00cc96",
           "#ab63fa",
           "#FFA15A",
           "#19d3f3",
           "#FF6692",
           "#B6E880",
           "#FF97FF",
           "#FECB52"
          ],
          "font": {
           "color": "#2a3f5f"
          },
          "geo": {
           "bgcolor": "white",
           "lakecolor": "white",
           "landcolor": "#E5ECF6",
           "showlakes": true,
           "showland": true,
           "subunitcolor": "white"
          },
          "hoverlabel": {
           "align": "left"
          },
          "hovermode": "closest",
          "mapbox": {
           "style": "light"
          },
          "paper_bgcolor": "white",
          "plot_bgcolor": "#E5ECF6",
          "polar": {
           "angularaxis": {
            "gridcolor": "white",
            "linecolor": "white",
            "ticks": ""
           },
           "bgcolor": "#E5ECF6",
           "radialaxis": {
            "gridcolor": "white",
            "linecolor": "white",
            "ticks": ""
           }
          },
          "scene": {
           "xaxis": {
            "backgroundcolor": "#E5ECF6",
            "gridcolor": "white",
            "gridwidth": 2,
            "linecolor": "white",
            "showbackground": true,
            "ticks": "",
            "zerolinecolor": "white"
           },
           "yaxis": {
            "backgroundcolor": "#E5ECF6",
            "gridcolor": "white",
            "gridwidth": 2,
            "linecolor": "white",
            "showbackground": true,
            "ticks": "",
            "zerolinecolor": "white"
           },
           "zaxis": {
            "backgroundcolor": "#E5ECF6",
            "gridcolor": "white",
            "gridwidth": 2,
            "linecolor": "white",
            "showbackground": true,
            "ticks": "",
            "zerolinecolor": "white"
           }
          },
          "shapedefaults": {
           "line": {
            "color": "#2a3f5f"
           }
          },
          "ternary": {
           "aaxis": {
            "gridcolor": "white",
            "linecolor": "white",
            "ticks": ""
           },
           "baxis": {
            "gridcolor": "white",
            "linecolor": "white",
            "ticks": ""
           },
           "bgcolor": "#E5ECF6",
           "caxis": {
            "gridcolor": "white",
            "linecolor": "white",
            "ticks": ""
           }
          },
          "title": {
           "x": 0.05
          },
          "xaxis": {
           "automargin": true,
           "gridcolor": "white",
           "linecolor": "white",
           "ticks": "",
           "title": {
            "standoff": 15
           },
           "zerolinecolor": "white",
           "zerolinewidth": 2
          },
          "yaxis": {
           "automargin": true,
           "gridcolor": "white",
           "linecolor": "white",
           "ticks": "",
           "title": {
            "standoff": 15
           },
           "zerolinecolor": "white",
           "zerolinewidth": 2
          }
         }
        },
        "xaxis": {
         "tickangle": 0,
         "title": {
          "text": ""
         }
        },
        "yaxis": {
         "title": {
          "text": ""
         }
        }
       }
      }
     },
     "metadata": {},
     "output_type": "display_data"
    },
    {
     "name": "stdout",
     "output_type": "stream",
     "text": [
      "Strategy: cluster, Average num_features: 18.09\n",
      "Strategy: cluster-nopos, Average num_features: 21.92\n",
      "Strategy: zero, Average num_features: 31.40\n",
      "Strategy: random-pos, Average num_features: 45.35\n",
      "Strategy: random, Average num_features: 48.61\n"
     ]
    }
   ],
   "source": [
    "# Plot mean number of features for main strategies\n",
    "\n",
    "import plotly.graph_objects as go\n",
    "import pandas as pd\n",
    "\n",
    "# Create a DataFrame by concatenating the data from all strategies\n",
    "df = pd.concat([profile[\"data\"] for profile in strategies.values()])\n",
    "\n",
    "def show_figure(names: list[str], label_key: str = \"label\"):\n",
    "    \"\"\"\n",
    "    Create a box plot to compare the number of features across different strategies.\n",
    "    \"\"\"\n",
    "    fig = go.Figure()\n",
    "\n",
    "    for strategy in names:\n",
    "        strategy_data = df[df[\"strategy\"] == strategy]\n",
    "        median_value = strategy_data[\"num_features\"].median()\n",
    "        fig.add_trace(go.Box(\n",
    "            x=strategy_data[label_key],\n",
    "            y=strategy_data[\"num_features\"],\n",
    "            boxpoints=\"all\",  # Show all points\n",
    "            marker=dict(size=3),\n",
    "            marker_color=strategies[strategy][\"color\"],\n",
    "        ))\n",
    "        # Add a text annotation\n",
    "        fig.add_trace(go.Scatter(\n",
    "            x=[strategy_data[label_key].iloc[0]],\n",
    "            y=[median_value],\n",
    "            mode=\"text\",\n",
    "            text=[f\"{str(median_value).strip('0').strip('.')}\"],\n",
    "            textposition=\"top center\",\n",
    "            showlegend=False\n",
    "        ))\n",
    "\n",
    "    # Update layout\n",
    "    fig.update_layout(\n",
    "        xaxis=dict(title=\"\", tickangle=0),\n",
    "        yaxis=dict(title=\"\"),\n",
    "        showlegend=False,\n",
    "    )\n",
    "\n",
    "    fig.show()\n",
    "\n",
    "# Show figure for different sets of strategies\n",
    "show_figure([\"cluster\", \"zero\", \"random\"])\n",
    "show_figure([\"cluster\", \"cluster-nopos\"], label_key=\"label_alt\")\n",
    "\n",
    "# Print average num_features for each strategy\n",
    "for strategy, profile in strategies.items():\n",
    "    mean_features = profile[\"data\"][\"num_features\"].mean()\n",
    "    print(f\"Strategy: {strategy}, Average num_features: {mean_features:.2f}\")"
   ]
  },
  {
   "cell_type": "code",
   "execution_count": 35,
   "metadata": {},
   "outputs": [
    {
     "data": {
      "application/vnd.plotly.v1+json": {
       "config": {
        "plotlyServerURL": "https://plot.ly"
       },
       "data": [
        {
         "boxpoints": "all",
         "marker": {
          "color": "royalblue",
          "size": 3
         },
         "name": "cluster",
         "type": "box",
         "x": [
          "Cluster resampling",
          "Cluster resampling",
          "Cluster resampling",
          "Cluster resampling",
          "Cluster resampling",
          "Cluster resampling",
          "Cluster resampling",
          "Cluster resampling",
          "Cluster resampling",
          "Cluster resampling",
          "Cluster resampling",
          "Cluster resampling",
          "Cluster resampling",
          "Cluster resampling",
          "Cluster resampling",
          "Cluster resampling",
          "Cluster resampling",
          "Cluster resampling",
          "Cluster resampling",
          "Cluster resampling",
          "Cluster resampling",
          "Cluster resampling",
          "Cluster resampling",
          "Cluster resampling",
          "Cluster resampling",
          "Cluster resampling",
          "Cluster resampling",
          "Cluster resampling",
          "Cluster resampling",
          "Cluster resampling",
          "Cluster resampling",
          "Cluster resampling",
          "Cluster resampling",
          "Cluster resampling",
          "Cluster resampling",
          "Cluster resampling",
          "Cluster resampling",
          "Cluster resampling",
          "Cluster resampling",
          "Cluster resampling",
          "Cluster resampling",
          "Cluster resampling",
          "Cluster resampling",
          "Cluster resampling",
          "Cluster resampling",
          "Cluster resampling",
          "Cluster resampling",
          "Cluster resampling",
          "Cluster resampling",
          "Cluster resampling",
          "Cluster resampling",
          "Cluster resampling",
          "Cluster resampling",
          "Cluster resampling",
          "Cluster resampling",
          "Cluster resampling",
          "Cluster resampling",
          "Cluster resampling",
          "Cluster resampling",
          "Cluster resampling",
          "Cluster resampling",
          "Cluster resampling",
          "Cluster resampling",
          "Cluster resampling",
          "Cluster resampling",
          "Cluster resampling",
          "Cluster resampling",
          "Cluster resampling",
          "Cluster resampling",
          "Cluster resampling",
          "Cluster resampling",
          "Cluster resampling",
          "Cluster resampling",
          "Cluster resampling",
          "Cluster resampling",
          "Cluster resampling",
          "Cluster resampling",
          "Cluster resampling",
          "Cluster resampling",
          "Cluster resampling",
          "Cluster resampling",
          "Cluster resampling",
          "Cluster resampling",
          "Cluster resampling",
          "Cluster resampling",
          "Cluster resampling",
          "Cluster resampling",
          "Cluster resampling",
          "Cluster resampling",
          "Cluster resampling",
          "Cluster resampling",
          "Cluster resampling",
          "Cluster resampling",
          "Cluster resampling",
          "Cluster resampling",
          "Cluster resampling",
          "Cluster resampling",
          "Cluster resampling",
          "Cluster resampling",
          "Cluster resampling"
         ],
         "y": {
          "bdata": "mpmZgerusj8zMzPT2H6qP5qZmfkA7MQ/MzMzQ8XYtD8AAABAwJ2wPwAAAADUbcw/MzMzj+5ppD/NzMxMLCDNPwAAABJgyMA/MzMzq8AOwz+amZn5atGvP2ZmZkbxmcQ/zczMbL4+tz9mZmY+vHLLP5qZmUk+iqA/mpmZMUHQwT8AAACg0DK4PzMzM7MzQdQ/ZmZmFiVnyD8AAACgTlTNP83MzBS9r7Q/MzMz04JvoD8AAADw8xXFP2ZmZuYEgbo/ZmZmNs7Cwz/NzMxYPgnCP2ZmZraRttM/MzMzc1/AwD8AAABYea3LP2ZmZmZLT8A/ZmZmxuEHyT8zMzPDRWS0PwAAAAAZWro/mpmZMZ5MrT+amZnZ+TS4PzMzMyP6UMI/MzMzmxBOwD+amZkBKsLAPzMzM7+sXsw/AAAA0MQArj+amZn5Ojq6PzMzM0eVILQ/AAAAsLYYvD8AAACYeIDBP5qZmfF+47w/MzMzUy4exj8zMzMjEHPRP83MzOxXaKU/MzMzE5cTxz/NzMwoZcbHPwAAABBDl9M/ZmZmEMqotz+amZn5iqzBPwAAAOCwo+U/zczMrMdmvz/NzMxsZt++P83MzCxmG9k/AAAAUAZ01j8zMzOTIizMP5qZmdFZWsk/AAAARBx3wT8zMzOT/5TMPzMzM7NVgKc/zczMXOr55D9mZmY2Rx+xP2ZmZs4GxcE/MzMzg3kepT8AAADg9SvHP5qZmbludrA/mpmZybfIwz8AAABImy/GP5qZmacfCOE/zczMzP4avz+amZlZ1LSlP83MzCwGXdo/mpmZWXT/yz9mZmZmfXHBP5qZmVmwVrg/AAAAoIfzwz/NzMzMcxq2P2ZmZpbthdA/mpmZmeNa2z+amZlBFCu9P5qZmflBCs0/AAAAgHcgzD8AAAAgUz7KPzMzMxOiEKs/zczMDIJdqT8zMzMzdoO1P2ZmZvZuGKI/MzMzS7y4zz/NzMwM3by/P2ZmZnbGY7Y/AAAAoLjuvD8zMzPzHhPKPzMzM2Mzx6c/mpmZee6ezD8zMzPbdEzlP83MzIzi8pg/mpmZyaED0D8=",
          "dtype": "f8"
         }
        },
        {
         "mode": "text",
         "showlegend": false,
         "text": [
          "0.14"
         ],
         "textposition": "top center",
         "type": "scatter",
         "x": [
          "Cluster resampling"
         ],
         "y": [
          0.13659029360860586
         ]
        },
        {
         "boxpoints": "all",
         "marker": {
          "color": "lightseagreen",
          "size": 3
         },
         "name": "zero",
         "type": "box",
         "x": [
          "Zero ablation",
          "Zero ablation",
          "Zero ablation",
          "Zero ablation",
          "Zero ablation",
          "Zero ablation",
          "Zero ablation",
          "Zero ablation",
          "Zero ablation",
          "Zero ablation",
          "Zero ablation",
          "Zero ablation",
          "Zero ablation",
          "Zero ablation",
          "Zero ablation",
          "Zero ablation",
          "Zero ablation",
          "Zero ablation",
          "Zero ablation",
          "Zero ablation",
          "Zero ablation",
          "Zero ablation",
          "Zero ablation",
          "Zero ablation",
          "Zero ablation",
          "Zero ablation",
          "Zero ablation",
          "Zero ablation",
          "Zero ablation",
          "Zero ablation",
          "Zero ablation",
          "Zero ablation",
          "Zero ablation",
          "Zero ablation",
          "Zero ablation",
          "Zero ablation",
          "Zero ablation",
          "Zero ablation",
          "Zero ablation",
          "Zero ablation",
          "Zero ablation",
          "Zero ablation",
          "Zero ablation",
          "Zero ablation",
          "Zero ablation",
          "Zero ablation",
          "Zero ablation",
          "Zero ablation",
          "Zero ablation",
          "Zero ablation",
          "Zero ablation",
          "Zero ablation",
          "Zero ablation",
          "Zero ablation",
          "Zero ablation",
          "Zero ablation",
          "Zero ablation",
          "Zero ablation",
          "Zero ablation",
          "Zero ablation",
          "Zero ablation",
          "Zero ablation",
          "Zero ablation",
          "Zero ablation",
          "Zero ablation",
          "Zero ablation",
          "Zero ablation",
          "Zero ablation",
          "Zero ablation",
          "Zero ablation",
          "Zero ablation",
          "Zero ablation",
          "Zero ablation",
          "Zero ablation",
          "Zero ablation",
          "Zero ablation",
          "Zero ablation",
          "Zero ablation",
          "Zero ablation",
          "Zero ablation",
          "Zero ablation",
          "Zero ablation",
          "Zero ablation",
          "Zero ablation",
          "Zero ablation",
          "Zero ablation",
          "Zero ablation",
          "Zero ablation",
          "Zero ablation",
          "Zero ablation",
          "Zero ablation",
          "Zero ablation",
          "Zero ablation",
          "Zero ablation",
          "Zero ablation",
          "Zero ablation",
          "Zero ablation",
          "Zero ablation",
          "Zero ablation",
          "Zero ablation"
         ],
         "y": {
          "bdata": "Zmbm1IpdyT9mZmaW3THFP2ZmZkb+K8M/zczMzLL8xz8AAABwLlHBP83MzOzJ1c8/zczMrKcCvT+amZn5CabUP5qZmVkAqMg/MzMzMzsuvT8zMzMzRRnIP83MzAw1F8U/ZmZmFupAxT9mZmYmlPTHP83MzIx7Br0/AAAAIFpWyj+amZnZFfDBP83MzMy7v88/mpmZEY8r4z/NzMzMNeDnPwAAACArJ8c/ZmZmliVhwz9mZmbm6mfFP2ZmZnYkCbY/MzMzg/opxD8AAAAgKyfHPwAAACRI0fI/mpmZOWW+xD/NzMzsydXPP2ZmZgaIuMQ/MzMzIxD4wT9mZmaGuF3FP83MzOyEbsU/ZmZmVhwYvD8zMzPjS9C+P83MzHTU288/mpmZ4TR6wD9mZmYmrDrGPzMzM0P8sMU/mpmZcXgctz8zMzPjZF3DP2ZmZnYFN8k/AAAAkPc6yD8AAAAgYQvFPwAAAOACkso/mpmZ+be8zT/NzMwcOqHEPzMzM2vIZsM/MzMzs2h93j8AAACgD1LqP83MzMy7v88/MzMzN10QsT8zMzPzh8HIP5qZmYlt5NE/AAAAgDA6yz8zMzNzBwvHPzMzM5ML+ec/MzMzU8H7yD/NzMxMYyrbPwAAAOACkso/zczMDMIowz8zMzOjJgjTP5qZmRldxLs/zczM/DnJ9T8AAABwLlHBP5qZmSl9f8I/mpmZGV3Euz8AAACAsMPNPwAAAJDJD8M/zczMrAkGzD8AAABQBPvSP2ZmZoZxu9U/ZmZmptOxxD8AAAD4ED/BPzMzM7OpXsw/AAAAYBgPyD/NzMzMsvzHP2ZmZvbmcsQ/MzMzkxaxxj9mZmbGEZXDPwAAAHirguE/zczMRKuW5z+amZnZ8U/IPzMzMwOITtc/zczMnNdW3z+amZmZg8bHPwAAADBdNsQ/mpmZqYMAvD8AAABAKmS8PzMzM2vIZsM/MzMz0xJAzD8zMzPjXCDSP5qZmYltucQ/zczMLD652T9mZmYun7isP2ZmZoZPv8k/MzMzM/Tl3D/NzMzs3nXWP2ZmZhaEhrM/AAAAUDvr0j8=",
          "dtype": "f8"
         }
        },
        {
         "mode": "text",
         "showlegend": false,
         "text": [
          "0.18"
         ],
         "textposition": "top center",
         "type": "scatter",
         "x": [
          "Zero ablation"
         ],
         "y": [
          0.18331424742937089
         ]
        },
        {
         "boxpoints": "all",
         "marker": {
          "color": "indianred",
          "size": 3
         },
         "name": "random",
         "type": "box",
         "x": [
          "Conventional resampling",
          "Conventional resampling",
          "Conventional resampling",
          "Conventional resampling",
          "Conventional resampling",
          "Conventional resampling",
          "Conventional resampling",
          "Conventional resampling",
          "Conventional resampling",
          "Conventional resampling",
          "Conventional resampling",
          "Conventional resampling",
          "Conventional resampling",
          "Conventional resampling",
          "Conventional resampling",
          "Conventional resampling",
          "Conventional resampling",
          "Conventional resampling",
          "Conventional resampling",
          "Conventional resampling",
          "Conventional resampling",
          "Conventional resampling",
          "Conventional resampling",
          "Conventional resampling",
          "Conventional resampling",
          "Conventional resampling",
          "Conventional resampling",
          "Conventional resampling",
          "Conventional resampling",
          "Conventional resampling",
          "Conventional resampling",
          "Conventional resampling",
          "Conventional resampling",
          "Conventional resampling",
          "Conventional resampling",
          "Conventional resampling",
          "Conventional resampling",
          "Conventional resampling",
          "Conventional resampling",
          "Conventional resampling",
          "Conventional resampling",
          "Conventional resampling",
          "Conventional resampling",
          "Conventional resampling",
          "Conventional resampling",
          "Conventional resampling",
          "Conventional resampling",
          "Conventional resampling",
          "Conventional resampling",
          "Conventional resampling",
          "Conventional resampling",
          "Conventional resampling",
          "Conventional resampling",
          "Conventional resampling",
          "Conventional resampling",
          "Conventional resampling",
          "Conventional resampling",
          "Conventional resampling",
          "Conventional resampling",
          "Conventional resampling",
          "Conventional resampling",
          "Conventional resampling",
          "Conventional resampling",
          "Conventional resampling",
          "Conventional resampling",
          "Conventional resampling",
          "Conventional resampling",
          "Conventional resampling",
          "Conventional resampling",
          "Conventional resampling",
          "Conventional resampling",
          "Conventional resampling",
          "Conventional resampling",
          "Conventional resampling",
          "Conventional resampling",
          "Conventional resampling",
          "Conventional resampling",
          "Conventional resampling",
          "Conventional resampling",
          "Conventional resampling",
          "Conventional resampling",
          "Conventional resampling",
          "Conventional resampling",
          "Conventional resampling",
          "Conventional resampling",
          "Conventional resampling",
          "Conventional resampling",
          "Conventional resampling",
          "Conventional resampling",
          "Conventional resampling",
          "Conventional resampling",
          "Conventional resampling",
          "Conventional resampling",
          "Conventional resampling",
          "Conventional resampling",
          "Conventional resampling",
          "Conventional resampling",
          "Conventional resampling",
          "Conventional resampling",
          "Conventional resampling"
         ],
         "y": {
          "bdata": "AAAA+P304z8zMzNzxGHRP5qZmckSBfQ/ZmZm9q7A9D/NzMycbl/TP83MzAwCifQ/MzMz0/ug3z/NzMxcoVvoPwAAABD0Yvs/ZmZmtiqs9D/NzMxsdlruP5qZmTkv0PI/mpmZef0W2T8zMzPzZkPrP5qZmbkfe9A/ZmZmxs4M5D/NzMxsyLX7PzMzM7MS3es/MzMzwzrL4T/NzMwsKqMAQM3MzCw1Lv8/ZmZmtrc+0j9mZmam3C72PwAAAPAJ6/M/mpmZaerk7T8AAACgsB/7P2ZmZqbvpvs/mpmZYasL4j+amZkZ4Jr1P2ZmZtKMJPA/mpmZuWka8j+amZmZsr7SP2ZmZqawTPA/zczMLCd27D8zMzNTDW/cP5qZmSmP4ts/AAAAEFiP5D9mZmZmpWLsP2ZmZmZce+s/ZmZm5mUD5j8AAADwgHXrPwAAAEDJ7fw/zczMrP2L5j8AAAA43FbyPzMzM5MKoPU/zczMPHUy2j/NzMzsHuLsP2ZmZh5BgNA/mpmZOT3A7z8zMzOzbyD3PzMzM7OQgek/MzMzc8dv3T8zMzOTtv79P2ZmZoZoj/Y/zczMPBYx8j9mZmbml4vxPwAAAODuEPM/zczMLIZ28j8zMzMTR0X0PwAAAKAsLPQ/zczM7NeX8z/NzMzceMEAQDMzM9OkatI/mpmZOVVr/z+amZmB3WfTP2ZmZmbOU9o/zczMrPib0T8AAAAwdWj1P83MzEwehNQ/zczMDMjD6z9mZmYGuZ3mP83MzIzMlv4/MzMz47Sc+D+amZmZDfTMP83MzMw6x/Y/mpmZmUX54z/NzMycbSz0PzMzM2PeovA/AAAAUAdA8D8AAAAoGCjVP2ZmZiYYYPM/MzMzUz2k8z/NzMzsZsjzPzMzM/Od9fU/mpmZSYZ+AkCamZk5W7LxP2ZmZvaxr90/MzMzk9xO0T/NzMwERaXtPwAAAPiWlNM/AAAAMGcU9z9mZmbG8nHVPzMzM1N7INQ/AAAAgGBS6T+amZkBJnfmP5qZmeGw4+4/ZmZmToAI9j8AAABgJsf9P2ZmZna3LuU/AAAAxMLl+z8=",
          "dtype": "f8"
         }
        },
        {
         "mode": "text",
         "showlegend": false,
         "text": [
          "0.98"
         ],
         "textposition": "top center",
         "type": "scatter",
         "x": [
          "Conventional resampling"
         ],
         "y": [
          0.9787554994225502
         ]
        }
       ],
       "layout": {
        "showlegend": false,
        "template": {
         "data": {
          "bar": [
           {
            "error_x": {
             "color": "#2a3f5f"
            },
            "error_y": {
             "color": "#2a3f5f"
            },
            "marker": {
             "line": {
              "color": "#E5ECF6",
              "width": 0.5
             },
             "pattern": {
              "fillmode": "overlay",
              "size": 10,
              "solidity": 0.2
             }
            },
            "type": "bar"
           }
          ],
          "barpolar": [
           {
            "marker": {
             "line": {
              "color": "#E5ECF6",
              "width": 0.5
             },
             "pattern": {
              "fillmode": "overlay",
              "size": 10,
              "solidity": 0.2
             }
            },
            "type": "barpolar"
           }
          ],
          "carpet": [
           {
            "aaxis": {
             "endlinecolor": "#2a3f5f",
             "gridcolor": "white",
             "linecolor": "white",
             "minorgridcolor": "white",
             "startlinecolor": "#2a3f5f"
            },
            "baxis": {
             "endlinecolor": "#2a3f5f",
             "gridcolor": "white",
             "linecolor": "white",
             "minorgridcolor": "white",
             "startlinecolor": "#2a3f5f"
            },
            "type": "carpet"
           }
          ],
          "choropleth": [
           {
            "colorbar": {
             "outlinewidth": 0,
             "ticks": ""
            },
            "type": "choropleth"
           }
          ],
          "contour": [
           {
            "colorbar": {
             "outlinewidth": 0,
             "ticks": ""
            },
            "colorscale": [
             [
              0,
              "#0d0887"
             ],
             [
              0.1111111111111111,
              "#46039f"
             ],
             [
              0.2222222222222222,
              "#7201a8"
             ],
             [
              0.3333333333333333,
              "#9c179e"
             ],
             [
              0.4444444444444444,
              "#bd3786"
             ],
             [
              0.5555555555555556,
              "#d8576b"
             ],
             [
              0.6666666666666666,
              "#ed7953"
             ],
             [
              0.7777777777777778,
              "#fb9f3a"
             ],
             [
              0.8888888888888888,
              "#fdca26"
             ],
             [
              1,
              "#f0f921"
             ]
            ],
            "type": "contour"
           }
          ],
          "contourcarpet": [
           {
            "colorbar": {
             "outlinewidth": 0,
             "ticks": ""
            },
            "type": "contourcarpet"
           }
          ],
          "heatmap": [
           {
            "colorbar": {
             "outlinewidth": 0,
             "ticks": ""
            },
            "colorscale": [
             [
              0,
              "#0d0887"
             ],
             [
              0.1111111111111111,
              "#46039f"
             ],
             [
              0.2222222222222222,
              "#7201a8"
             ],
             [
              0.3333333333333333,
              "#9c179e"
             ],
             [
              0.4444444444444444,
              "#bd3786"
             ],
             [
              0.5555555555555556,
              "#d8576b"
             ],
             [
              0.6666666666666666,
              "#ed7953"
             ],
             [
              0.7777777777777778,
              "#fb9f3a"
             ],
             [
              0.8888888888888888,
              "#fdca26"
             ],
             [
              1,
              "#f0f921"
             ]
            ],
            "type": "heatmap"
           }
          ],
          "histogram": [
           {
            "marker": {
             "pattern": {
              "fillmode": "overlay",
              "size": 10,
              "solidity": 0.2
             }
            },
            "type": "histogram"
           }
          ],
          "histogram2d": [
           {
            "colorbar": {
             "outlinewidth": 0,
             "ticks": ""
            },
            "colorscale": [
             [
              0,
              "#0d0887"
             ],
             [
              0.1111111111111111,
              "#46039f"
             ],
             [
              0.2222222222222222,
              "#7201a8"
             ],
             [
              0.3333333333333333,
              "#9c179e"
             ],
             [
              0.4444444444444444,
              "#bd3786"
             ],
             [
              0.5555555555555556,
              "#d8576b"
             ],
             [
              0.6666666666666666,
              "#ed7953"
             ],
             [
              0.7777777777777778,
              "#fb9f3a"
             ],
             [
              0.8888888888888888,
              "#fdca26"
             ],
             [
              1,
              "#f0f921"
             ]
            ],
            "type": "histogram2d"
           }
          ],
          "histogram2dcontour": [
           {
            "colorbar": {
             "outlinewidth": 0,
             "ticks": ""
            },
            "colorscale": [
             [
              0,
              "#0d0887"
             ],
             [
              0.1111111111111111,
              "#46039f"
             ],
             [
              0.2222222222222222,
              "#7201a8"
             ],
             [
              0.3333333333333333,
              "#9c179e"
             ],
             [
              0.4444444444444444,
              "#bd3786"
             ],
             [
              0.5555555555555556,
              "#d8576b"
             ],
             [
              0.6666666666666666,
              "#ed7953"
             ],
             [
              0.7777777777777778,
              "#fb9f3a"
             ],
             [
              0.8888888888888888,
              "#fdca26"
             ],
             [
              1,
              "#f0f921"
             ]
            ],
            "type": "histogram2dcontour"
           }
          ],
          "mesh3d": [
           {
            "colorbar": {
             "outlinewidth": 0,
             "ticks": ""
            },
            "type": "mesh3d"
           }
          ],
          "parcoords": [
           {
            "line": {
             "colorbar": {
              "outlinewidth": 0,
              "ticks": ""
             }
            },
            "type": "parcoords"
           }
          ],
          "pie": [
           {
            "automargin": true,
            "type": "pie"
           }
          ],
          "scatter": [
           {
            "fillpattern": {
             "fillmode": "overlay",
             "size": 10,
             "solidity": 0.2
            },
            "type": "scatter"
           }
          ],
          "scatter3d": [
           {
            "line": {
             "colorbar": {
              "outlinewidth": 0,
              "ticks": ""
             }
            },
            "marker": {
             "colorbar": {
              "outlinewidth": 0,
              "ticks": ""
             }
            },
            "type": "scatter3d"
           }
          ],
          "scattercarpet": [
           {
            "marker": {
             "colorbar": {
              "outlinewidth": 0,
              "ticks": ""
             }
            },
            "type": "scattercarpet"
           }
          ],
          "scattergeo": [
           {
            "marker": {
             "colorbar": {
              "outlinewidth": 0,
              "ticks": ""
             }
            },
            "type": "scattergeo"
           }
          ],
          "scattergl": [
           {
            "marker": {
             "colorbar": {
              "outlinewidth": 0,
              "ticks": ""
             }
            },
            "type": "scattergl"
           }
          ],
          "scattermap": [
           {
            "marker": {
             "colorbar": {
              "outlinewidth": 0,
              "ticks": ""
             }
            },
            "type": "scattermap"
           }
          ],
          "scattermapbox": [
           {
            "marker": {
             "colorbar": {
              "outlinewidth": 0,
              "ticks": ""
             }
            },
            "type": "scattermapbox"
           }
          ],
          "scatterpolar": [
           {
            "marker": {
             "colorbar": {
              "outlinewidth": 0,
              "ticks": ""
             }
            },
            "type": "scatterpolar"
           }
          ],
          "scatterpolargl": [
           {
            "marker": {
             "colorbar": {
              "outlinewidth": 0,
              "ticks": ""
             }
            },
            "type": "scatterpolargl"
           }
          ],
          "scatterternary": [
           {
            "marker": {
             "colorbar": {
              "outlinewidth": 0,
              "ticks": ""
             }
            },
            "type": "scatterternary"
           }
          ],
          "surface": [
           {
            "colorbar": {
             "outlinewidth": 0,
             "ticks": ""
            },
            "colorscale": [
             [
              0,
              "#0d0887"
             ],
             [
              0.1111111111111111,
              "#46039f"
             ],
             [
              0.2222222222222222,
              "#7201a8"
             ],
             [
              0.3333333333333333,
              "#9c179e"
             ],
             [
              0.4444444444444444,
              "#bd3786"
             ],
             [
              0.5555555555555556,
              "#d8576b"
             ],
             [
              0.6666666666666666,
              "#ed7953"
             ],
             [
              0.7777777777777778,
              "#fb9f3a"
             ],
             [
              0.8888888888888888,
              "#fdca26"
             ],
             [
              1,
              "#f0f921"
             ]
            ],
            "type": "surface"
           }
          ],
          "table": [
           {
            "cells": {
             "fill": {
              "color": "#EBF0F8"
             },
             "line": {
              "color": "white"
             }
            },
            "header": {
             "fill": {
              "color": "#C8D4E3"
             },
             "line": {
              "color": "white"
             }
            },
            "type": "table"
           }
          ]
         },
         "layout": {
          "annotationdefaults": {
           "arrowcolor": "#2a3f5f",
           "arrowhead": 0,
           "arrowwidth": 1
          },
          "autotypenumbers": "strict",
          "coloraxis": {
           "colorbar": {
            "outlinewidth": 0,
            "ticks": ""
           }
          },
          "colorscale": {
           "diverging": [
            [
             0,
             "#8e0152"
            ],
            [
             0.1,
             "#c51b7d"
            ],
            [
             0.2,
             "#de77ae"
            ],
            [
             0.3,
             "#f1b6da"
            ],
            [
             0.4,
             "#fde0ef"
            ],
            [
             0.5,
             "#f7f7f7"
            ],
            [
             0.6,
             "#e6f5d0"
            ],
            [
             0.7,
             "#b8e186"
            ],
            [
             0.8,
             "#7fbc41"
            ],
            [
             0.9,
             "#4d9221"
            ],
            [
             1,
             "#276419"
            ]
           ],
           "sequential": [
            [
             0,
             "#0d0887"
            ],
            [
             0.1111111111111111,
             "#46039f"
            ],
            [
             0.2222222222222222,
             "#7201a8"
            ],
            [
             0.3333333333333333,
             "#9c179e"
            ],
            [
             0.4444444444444444,
             "#bd3786"
            ],
            [
             0.5555555555555556,
             "#d8576b"
            ],
            [
             0.6666666666666666,
             "#ed7953"
            ],
            [
             0.7777777777777778,
             "#fb9f3a"
            ],
            [
             0.8888888888888888,
             "#fdca26"
            ],
            [
             1,
             "#f0f921"
            ]
           ],
           "sequentialminus": [
            [
             0,
             "#0d0887"
            ],
            [
             0.1111111111111111,
             "#46039f"
            ],
            [
             0.2222222222222222,
             "#7201a8"
            ],
            [
             0.3333333333333333,
             "#9c179e"
            ],
            [
             0.4444444444444444,
             "#bd3786"
            ],
            [
             0.5555555555555556,
             "#d8576b"
            ],
            [
             0.6666666666666666,
             "#ed7953"
            ],
            [
             0.7777777777777778,
             "#fb9f3a"
            ],
            [
             0.8888888888888888,
             "#fdca26"
            ],
            [
             1,
             "#f0f921"
            ]
           ]
          },
          "colorway": [
           "#636efa",
           "#EF553B",
           "#00cc96",
           "#ab63fa",
           "#FFA15A",
           "#19d3f3",
           "#FF6692",
           "#B6E880",
           "#FF97FF",
           "#FECB52"
          ],
          "font": {
           "color": "#2a3f5f"
          },
          "geo": {
           "bgcolor": "white",
           "lakecolor": "white",
           "landcolor": "#E5ECF6",
           "showlakes": true,
           "showland": true,
           "subunitcolor": "white"
          },
          "hoverlabel": {
           "align": "left"
          },
          "hovermode": "closest",
          "mapbox": {
           "style": "light"
          },
          "paper_bgcolor": "white",
          "plot_bgcolor": "#E5ECF6",
          "polar": {
           "angularaxis": {
            "gridcolor": "white",
            "linecolor": "white",
            "ticks": ""
           },
           "bgcolor": "#E5ECF6",
           "radialaxis": {
            "gridcolor": "white",
            "linecolor": "white",
            "ticks": ""
           }
          },
          "scene": {
           "xaxis": {
            "backgroundcolor": "#E5ECF6",
            "gridcolor": "white",
            "gridwidth": 2,
            "linecolor": "white",
            "showbackground": true,
            "ticks": "",
            "zerolinecolor": "white"
           },
           "yaxis": {
            "backgroundcolor": "#E5ECF6",
            "gridcolor": "white",
            "gridwidth": 2,
            "linecolor": "white",
            "showbackground": true,
            "ticks": "",
            "zerolinecolor": "white"
           },
           "zaxis": {
            "backgroundcolor": "#E5ECF6",
            "gridcolor": "white",
            "gridwidth": 2,
            "linecolor": "white",
            "showbackground": true,
            "ticks": "",
            "zerolinecolor": "white"
           }
          },
          "shapedefaults": {
           "line": {
            "color": "#2a3f5f"
           }
          },
          "ternary": {
           "aaxis": {
            "gridcolor": "white",
            "linecolor": "white",
            "ticks": ""
           },
           "baxis": {
            "gridcolor": "white",
            "linecolor": "white",
            "ticks": ""
           },
           "bgcolor": "#E5ECF6",
           "caxis": {
            "gridcolor": "white",
            "linecolor": "white",
            "ticks": ""
           }
          },
          "title": {
           "x": 0.05
          },
          "xaxis": {
           "automargin": true,
           "gridcolor": "white",
           "linecolor": "white",
           "ticks": "",
           "title": {
            "standoff": 15
           },
           "zerolinecolor": "white",
           "zerolinewidth": 2
          },
          "yaxis": {
           "automargin": true,
           "gridcolor": "white",
           "linecolor": "white",
           "ticks": "",
           "title": {
            "standoff": 15
           },
           "zerolinecolor": "white",
           "zerolinewidth": 2
          }
         }
        },
        "xaxis": {
         "tickangle": 0,
         "title": {
          "text": ""
         }
        },
        "yaxis": {
         "tickmode": "array",
         "tickvals": [
          0.05,
          0.1,
          0.5,
          1,
          2
         ],
         "title": {
          "text": ""
         },
         "type": "log"
        }
       }
      }
     },
     "metadata": {},
     "output_type": "display_data"
    }
   ],
   "source": [
    "# Plot mean KLD\n",
    "\n",
    "import pandas as pd\n",
    "\n",
    "# Create a DataFrame by concatenating the data from all strategies\n",
    "featured_strategies = [\"cluster\", \"zero\", \"random\"]\n",
    "df = pd.concat([profile[\"data\"] for name, profile in strategies.items() if name in featured_strategies])\n",
    "\n",
    "# Create a violin plot for each strategy\n",
    "fig = go.Figure()\n",
    "\n",
    "for strategy in df[\"strategy\"].unique():\n",
    "    strategy_data = df[df[\"strategy\"] == strategy]\n",
    "    median_value = strategy_data[\"mean_kld\"].median()\n",
    "    fig.add_trace(go.Box(\n",
    "        x=strategy_data[\"label\"],\n",
    "        y=strategy_data[\"mean_kld\"],\n",
    "        name=strategy,\n",
    "        boxpoints=\"all\",  # Show all points\n",
    "        marker=dict(size=3),\n",
    "        marker_color=strategies[strategy][\"color\"],\n",
    "    ))\n",
    "    # Add a text annotation\n",
    "    fig.add_trace(go.Scatter(\n",
    "        x=[strategy_data[\"label\"].iloc[0]],\n",
    "        y=[median_value],\n",
    "        mode=\"text\",\n",
    "        text=[f\"{round(median_value, 2)}\"],\n",
    "        textposition=\"top center\",\n",
    "        showlegend=False,\n",
    "    ))\n",
    "\n",
    "# Update layout\n",
    "fig.update_layout(\n",
    "    xaxis=dict(title=\"\", tickangle=0),\n",
    "    yaxis=dict(title=\"\"),\n",
    "    showlegend=False,\n",
    ")\n",
    "fig.update_yaxes(type=\"log\", tickmode = 'array', tickvals = [0.05, 0.1, 0.5, 1, 2],)\n",
    "\n",
    "fig.show()"
   ]
  }
 ],
 "metadata": {
  "kernelspec": {
   "display_name": ".venv",
   "language": "python",
   "name": "python3"
  },
  "language_info": {
   "codemirror_mode": {
    "name": "ipython",
    "version": 3
   },
   "file_extension": ".py",
   "mimetype": "text/x-python",
   "name": "python",
   "nbconvert_exporter": "python",
   "pygments_lexer": "ipython3",
   "version": "3.12.5"
  }
 },
 "nbformat": 4,
 "nbformat_minor": 2
}
